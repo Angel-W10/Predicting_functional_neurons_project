{
  "nbformat": 4,
  "nbformat_minor": 0,
  "metadata": {
    "colab": {
      "name": "neuron_imaging.ipynb",
      "provenance": [],
      "collapsed_sections": [],
      "mount_file_id": "1n3ZUuPIXLnFkgwPo-uo_ZPeONccDbqgK",
      "authorship_tag": "ABX9TyO5hXCzQL/WoS7NQPetUrmo",
      "include_colab_link": true
    },
    "kernelspec": {
      "name": "python3",
      "display_name": "Python 3"
    },
    "language_info": {
      "name": "python"
    },
    "accelerator": "GPU"
  },
  "cells": [
    {
      "cell_type": "markdown",
      "metadata": {
        "id": "view-in-github",
        "colab_type": "text"
      },
      "source": [
        "<a href=\"https://colab.research.google.com/github/Angel-W10/Predicting_functional_neurons_project/blob/main/neuron_imaging.ipynb\" target=\"_parent\"><img src=\"https://colab.research.google.com/assets/colab-badge.svg\" alt=\"Open In Colab\"/></a>"
      ]
    },
    {
      "cell_type": "code",
      "source": [
        "# importing the packages for the project\n",
        "import matplotlib.pyplot as plt\n",
        "import glob\n",
        "import os\n",
        "import numpy as np\n",
        "import pandas as pd\n",
        "import calendar\n",
        "import csv\n",
        "from PIL import Image\n",
        "import seaborn as sns"
      ],
      "metadata": {
        "id": "-uw0ry-4qoCU"
      },
      "execution_count": null,
      "outputs": []
    },
    {
      "cell_type": "code",
      "source": [
        "!pip install -U tensorflow-addons"
      ],
      "metadata": {
        "colab": {
          "base_uri": "https://localhost:8080/"
        },
        "id": "EjmrfwrWA2sG",
        "outputId": "b49e5218-8b1b-4dad-cbc3-b313dbad62a2"
      },
      "execution_count": null,
      "outputs": [
        {
          "output_type": "stream",
          "name": "stdout",
          "text": [
            "Looking in indexes: https://pypi.org/simple, https://us-python.pkg.dev/colab-wheels/public/simple/\n",
            "Collecting tensorflow-addons\n",
            "  Downloading tensorflow_addons-0.17.0-cp37-cp37m-manylinux_2_17_x86_64.manylinux2014_x86_64.whl (1.1 MB)\n",
            "\u001b[K     |████████████████████████████████| 1.1 MB 35.2 MB/s \n",
            "\u001b[?25hRequirement already satisfied: packaging in /usr/local/lib/python3.7/dist-packages (from tensorflow-addons) (21.3)\n",
            "Requirement already satisfied: typeguard>=2.7 in /usr/local/lib/python3.7/dist-packages (from tensorflow-addons) (2.7.1)\n",
            "Requirement already satisfied: pyparsing!=3.0.5,>=2.0.2 in /usr/local/lib/python3.7/dist-packages (from packaging->tensorflow-addons) (3.0.9)\n",
            "Installing collected packages: tensorflow-addons\n",
            "Successfully installed tensorflow-addons-0.17.0\n"
          ]
        }
      ]
    },
    {
      "cell_type": "code",
      "source": [
        "import tensorflow as tf\n",
        "from tensorflow import keras\n",
        "from tensorflow.keras import layers\n",
        "import tensorflow_addons as tfa\n",
        "\n",
        "from sklearn.metrics import f1_score"
      ],
      "metadata": {
        "id": "MLN7fzPIBLZH"
      },
      "execution_count": null,
      "outputs": []
    },
    {
      "cell_type": "code",
      "source": [
        "# %tensorflow_version 1.x"
      ],
      "metadata": {
        "id": "nkjKAkZoLbpL"
      },
      "execution_count": null,
      "outputs": []
    },
    {
      "cell_type": "code",
      "source": [
        "!nvidia-smi"
      ],
      "metadata": {
        "colab": {
          "base_uri": "https://localhost:8080/"
        },
        "id": "ufd8R4jXmn99",
        "outputId": "05a65de4-6b86-4917-fcdf-2bde1215c52e"
      },
      "execution_count": null,
      "outputs": [
        {
          "output_type": "stream",
          "name": "stdout",
          "text": [
            "Tue Jun  7 08:01:56 2022       \n",
            "+-----------------------------------------------------------------------------+\n",
            "| NVIDIA-SMI 460.32.03    Driver Version: 460.32.03    CUDA Version: 11.2     |\n",
            "|-------------------------------+----------------------+----------------------+\n",
            "| GPU  Name        Persistence-M| Bus-Id        Disp.A | Volatile Uncorr. ECC |\n",
            "| Fan  Temp  Perf  Pwr:Usage/Cap|         Memory-Usage | GPU-Util  Compute M. |\n",
            "|                               |                      |               MIG M. |\n",
            "|===============================+======================+======================|\n",
            "|   0  Tesla T4            Off  | 00000000:00:04.0 Off |                    0 |\n",
            "| N/A   52C    P8     9W /  70W |      0MiB / 15109MiB |      0%      Default |\n",
            "|                               |                      |                  N/A |\n",
            "+-------------------------------+----------------------+----------------------+\n",
            "                                                                               \n",
            "+-----------------------------------------------------------------------------+\n",
            "| Processes:                                                                  |\n",
            "|  GPU   GI   CI        PID   Type   Process name                  GPU Memory |\n",
            "|        ID   ID                                                   Usage      |\n",
            "|=============================================================================|\n",
            "|  No running processes found                                                 |\n",
            "+-----------------------------------------------------------------------------+\n"
          ]
        }
      ]
    },
    {
      "cell_type": "code",
      "execution_count": null,
      "metadata": {
        "id": "-05qglABmGes",
        "colab": {
          "base_uri": "https://localhost:8080/"
        },
        "outputId": "3c20126a-e2ac-4373-c0e3-897a3b1a81d9"
      },
      "outputs": [
        {
          "output_type": "stream",
          "name": "stdout",
          "text": [
            "Drive already mounted at /content/drive; to attempt to forcibly remount, call drive.mount(\"/content/drive\", force_remount=True).\n"
          ]
        }
      ],
      "source": [
        "from google.colab import drive\n",
        "drive.mount('/content/drive')"
      ]
    },
    {
      "cell_type": "code",
      "source": [
        "sort_file = pd.read_csv('control_disease_files.csv')"
      ],
      "metadata": {
        "id": "Ty_2t-1QtoE6"
      },
      "execution_count": null,
      "outputs": []
    },
    {
      "cell_type": "code",
      "source": [
        "sort_file.columns"
      ],
      "metadata": {
        "colab": {
          "base_uri": "https://localhost:8080/"
        },
        "id": "NLS0nr5Huv5u",
        "outputId": "51f41cac-dbf9-4a8e-d186-cee7ae0f9003"
      },
      "execution_count": null,
      "outputs": [
        {
          "output_type": "execute_result",
          "data": {
            "text/plain": [
              "Index(['Healthy or Disease (MPSIIIA)', 'Raw image folder name', 'Downloaded'], dtype='object')"
            ]
          },
          "metadata": {},
          "execution_count": 9
        }
      ]
    },
    {
      "cell_type": "code",
      "source": [
        "control, disease = (v for m,v in sort_file.groupby('Healthy or Disease (MPSIIIA)'))"
      ],
      "metadata": {
        "id": "hiZ8j5dBvPDl"
      },
      "execution_count": null,
      "outputs": []
    },
    {
      "cell_type": "code",
      "source": [
        "del sort_file"
      ],
      "metadata": {
        "id": "KiuUrrrNMb9L"
      },
      "execution_count": null,
      "outputs": []
    },
    {
      "cell_type": "code",
      "source": [
        "control = control.drop('Downloaded', axis=1)\n",
        "disease = disease.drop('Downloaded', axis=1)"
      ],
      "metadata": {
        "id": "-p8JSc-wxgww"
      },
      "execution_count": null,
      "outputs": []
    },
    {
      "cell_type": "code",
      "source": [
        "print(disease.shape)\n",
        "print(control.shape)"
      ],
      "metadata": {
        "colab": {
          "base_uri": "https://localhost:8080/"
        },
        "id": "fsLbrbYTx3yW",
        "outputId": "2bd609cb-5fd4-4182-9093-8e5fba89f230"
      },
      "execution_count": null,
      "outputs": [
        {
          "output_type": "stream",
          "name": "stdout",
          "text": [
            "(124, 2)\n",
            "(106, 2)\n"
          ]
        }
      ]
    },
    {
      "cell_type": "code",
      "source": [
        "control_files = control.drop('Healthy or Disease (MPSIIIA)', axis=1)\n",
        "disease_files = disease.drop('Healthy or Disease (MPSIIIA)', axis=1)"
      ],
      "metadata": {
        "id": "-Dg4nWNhyTbT"
      },
      "execution_count": null,
      "outputs": []
    },
    {
      "cell_type": "code",
      "source": [
        "control_files.head()"
      ],
      "metadata": {
        "colab": {
          "base_uri": "https://localhost:8080/",
          "height": 206
        },
        "id": "kHGEFdCkLY5q",
        "outputId": "eaa74e03-1c42-49a2-fc71-165ca5bcda40"
      },
      "execution_count": null,
      "outputs": [
        {
          "output_type": "execute_result",
          "data": {
            "text/plain": [
              "                               Raw image folder name\n",
              "0  20200616_U01_NE79_C5_CORTICAL_40X_SYNGFP_RHOD_DIC\n",
              "1  20200616_U02_NE79_C5_CORTICAL_40X_SYNGFP_RHOD_DIC\n",
              "2  20200616_U03_NE79_C5_CORTICAL_40X_SYNGFP_RHOD_DIC\n",
              "3  20200616_U04_NE79_C5_CORTICAL_40X_SYNGFP_RHOD_DIC\n",
              "4  20200617_U02_NE79_C6_CORTICAL_40X_SYNGFP_RHOD_DIC"
            ],
            "text/html": [
              "\n",
              "  <div id=\"df-b51fe1be-b7da-4c18-9bc4-d565db56a622\">\n",
              "    <div class=\"colab-df-container\">\n",
              "      <div>\n",
              "<style scoped>\n",
              "    .dataframe tbody tr th:only-of-type {\n",
              "        vertical-align: middle;\n",
              "    }\n",
              "\n",
              "    .dataframe tbody tr th {\n",
              "        vertical-align: top;\n",
              "    }\n",
              "\n",
              "    .dataframe thead th {\n",
              "        text-align: right;\n",
              "    }\n",
              "</style>\n",
              "<table border=\"1\" class=\"dataframe\">\n",
              "  <thead>\n",
              "    <tr style=\"text-align: right;\">\n",
              "      <th></th>\n",
              "      <th>Raw image folder name</th>\n",
              "    </tr>\n",
              "  </thead>\n",
              "  <tbody>\n",
              "    <tr>\n",
              "      <th>0</th>\n",
              "      <td>20200616_U01_NE79_C5_CORTICAL_40X_SYNGFP_RHOD_DIC</td>\n",
              "    </tr>\n",
              "    <tr>\n",
              "      <th>1</th>\n",
              "      <td>20200616_U02_NE79_C5_CORTICAL_40X_SYNGFP_RHOD_DIC</td>\n",
              "    </tr>\n",
              "    <tr>\n",
              "      <th>2</th>\n",
              "      <td>20200616_U03_NE79_C5_CORTICAL_40X_SYNGFP_RHOD_DIC</td>\n",
              "    </tr>\n",
              "    <tr>\n",
              "      <th>3</th>\n",
              "      <td>20200616_U04_NE79_C5_CORTICAL_40X_SYNGFP_RHOD_DIC</td>\n",
              "    </tr>\n",
              "    <tr>\n",
              "      <th>4</th>\n",
              "      <td>20200617_U02_NE79_C6_CORTICAL_40X_SYNGFP_RHOD_DIC</td>\n",
              "    </tr>\n",
              "  </tbody>\n",
              "</table>\n",
              "</div>\n",
              "      <button class=\"colab-df-convert\" onclick=\"convertToInteractive('df-b51fe1be-b7da-4c18-9bc4-d565db56a622')\"\n",
              "              title=\"Convert this dataframe to an interactive table.\"\n",
              "              style=\"display:none;\">\n",
              "        \n",
              "  <svg xmlns=\"http://www.w3.org/2000/svg\" height=\"24px\"viewBox=\"0 0 24 24\"\n",
              "       width=\"24px\">\n",
              "    <path d=\"M0 0h24v24H0V0z\" fill=\"none\"/>\n",
              "    <path d=\"M18.56 5.44l.94 2.06.94-2.06 2.06-.94-2.06-.94-.94-2.06-.94 2.06-2.06.94zm-11 1L8.5 8.5l.94-2.06 2.06-.94-2.06-.94L8.5 2.5l-.94 2.06-2.06.94zm10 10l.94 2.06.94-2.06 2.06-.94-2.06-.94-.94-2.06-.94 2.06-2.06.94z\"/><path d=\"M17.41 7.96l-1.37-1.37c-.4-.4-.92-.59-1.43-.59-.52 0-1.04.2-1.43.59L10.3 9.45l-7.72 7.72c-.78.78-.78 2.05 0 2.83L4 21.41c.39.39.9.59 1.41.59.51 0 1.02-.2 1.41-.59l7.78-7.78 2.81-2.81c.8-.78.8-2.07 0-2.86zM5.41 20L4 18.59l7.72-7.72 1.47 1.35L5.41 20z\"/>\n",
              "  </svg>\n",
              "      </button>\n",
              "      \n",
              "  <style>\n",
              "    .colab-df-container {\n",
              "      display:flex;\n",
              "      flex-wrap:wrap;\n",
              "      gap: 12px;\n",
              "    }\n",
              "\n",
              "    .colab-df-convert {\n",
              "      background-color: #E8F0FE;\n",
              "      border: none;\n",
              "      border-radius: 50%;\n",
              "      cursor: pointer;\n",
              "      display: none;\n",
              "      fill: #1967D2;\n",
              "      height: 32px;\n",
              "      padding: 0 0 0 0;\n",
              "      width: 32px;\n",
              "    }\n",
              "\n",
              "    .colab-df-convert:hover {\n",
              "      background-color: #E2EBFA;\n",
              "      box-shadow: 0px 1px 2px rgba(60, 64, 67, 0.3), 0px 1px 3px 1px rgba(60, 64, 67, 0.15);\n",
              "      fill: #174EA6;\n",
              "    }\n",
              "\n",
              "    [theme=dark] .colab-df-convert {\n",
              "      background-color: #3B4455;\n",
              "      fill: #D2E3FC;\n",
              "    }\n",
              "\n",
              "    [theme=dark] .colab-df-convert:hover {\n",
              "      background-color: #434B5C;\n",
              "      box-shadow: 0px 1px 3px 1px rgba(0, 0, 0, 0.15);\n",
              "      filter: drop-shadow(0px 1px 2px rgba(0, 0, 0, 0.3));\n",
              "      fill: #FFFFFF;\n",
              "    }\n",
              "  </style>\n",
              "\n",
              "      <script>\n",
              "        const buttonEl =\n",
              "          document.querySelector('#df-b51fe1be-b7da-4c18-9bc4-d565db56a622 button.colab-df-convert');\n",
              "        buttonEl.style.display =\n",
              "          google.colab.kernel.accessAllowed ? 'block' : 'none';\n",
              "\n",
              "        async function convertToInteractive(key) {\n",
              "          const element = document.querySelector('#df-b51fe1be-b7da-4c18-9bc4-d565db56a622');\n",
              "          const dataTable =\n",
              "            await google.colab.kernel.invokeFunction('convertToInteractive',\n",
              "                                                     [key], {});\n",
              "          if (!dataTable) return;\n",
              "\n",
              "          const docLinkHtml = 'Like what you see? Visit the ' +\n",
              "            '<a target=\"_blank\" href=https://colab.research.google.com/notebooks/data_table.ipynb>data table notebook</a>'\n",
              "            + ' to learn more about interactive tables.';\n",
              "          element.innerHTML = '';\n",
              "          dataTable['output_type'] = 'display_data';\n",
              "          await google.colab.output.renderOutput(dataTable, element);\n",
              "          const docLink = document.createElement('div');\n",
              "          docLink.innerHTML = docLinkHtml;\n",
              "          element.appendChild(docLink);\n",
              "        }\n",
              "      </script>\n",
              "    </div>\n",
              "  </div>\n",
              "  "
            ]
          },
          "metadata": {},
          "execution_count": 15
        }
      ]
    },
    {
      "cell_type": "code",
      "source": [
        "del control\n",
        "del disease"
      ],
      "metadata": {
        "id": "XM7ZUTwRMitZ"
      },
      "execution_count": null,
      "outputs": []
    },
    {
      "cell_type": "code",
      "source": [
        "loc = '/content/drive/MyDrive/AIML/BardyLab Data - AIML collaboration/Morphology/Raw_Images/'"
      ],
      "metadata": {
        "id": "BOKgsH1YMdct"
      },
      "execution_count": null,
      "outputs": []
    },
    {
      "cell_type": "markdown",
      "source": [
        "**An exapmle of how the resizing is working**"
      ],
      "metadata": {
        "id": "fwX35mLaNdRM"
      }
    },
    {
      "cell_type": "code",
      "source": [
        "im = Image.open('/content/drive/MyDrive/AIML/BardyLab Data - AIML collaboration/Morphology/Raw_Images/2020/June/20200616_U03_NE79_C5_CORTICAL_40X_SYNGFP_RHOD_DIC/RHODAMINE/img_channel000_position000_time000000004_z000.tif')\n"
      ],
      "metadata": {
        "id": "YeBPxEFEul5x"
      },
      "execution_count": null,
      "outputs": []
    },
    {
      "cell_type": "code",
      "source": [
        "plt.imshow(im)"
      ],
      "metadata": {
        "colab": {
          "base_uri": "https://localhost:8080/",
          "height": 287
        },
        "id": "Mex4UBF2w1vc",
        "outputId": "e5dcd291-d6dd-4cfd-9518-45d2b2b225f4"
      },
      "execution_count": null,
      "outputs": [
        {
          "output_type": "execute_result",
          "data": {
            "text/plain": [
              "<matplotlib.image.AxesImage at 0x7f9ca2a71a10>"
            ]
          },
          "metadata": {},
          "execution_count": 19
        },
        {
          "output_type": "display_data",
          "data": {
            "text/plain": [
              "<Figure size 432x288 with 1 Axes>"
            ],
            "image/png": "[encoded data removed]"
          },
          "metadata": {
            "needs_background": "light"
          }
        }
      ]
    },
    {
      "cell_type": "code",
      "source": [
        "im.size\n",
        "im = im.convert('I')"
      ],
      "metadata": {
        "id": "YplZHf-SvFTo"
      },
      "execution_count": null,
      "outputs": []
    },
    {
      "cell_type": "code",
      "source": [
        "im = im.resize((256, 256))\n",
        "im.size"
      ],
      "metadata": {
        "colab": {
          "base_uri": "https://localhost:8080/"
        },
        "id": "M5MH4A59wTHy",
        "outputId": "e96aa6f8-e247-4b89-9a66-dfdfe5401239"
      },
      "execution_count": null,
      "outputs": [
        {
          "output_type": "execute_result",
          "data": {
            "text/plain": [
              "(256, 256)"
            ]
          },
          "metadata": {},
          "execution_count": 21
        }
      ]
    },
    {
      "cell_type": "code",
      "source": [
        "im = np.array(im)"
      ],
      "metadata": {
        "id": "UYl3Z7JzzLW0"
      },
      "execution_count": null,
      "outputs": []
    },
    {
      "cell_type": "code",
      "source": [
        "plt.imshow(im)"
      ],
      "metadata": {
        "colab": {
          "base_uri": "https://localhost:8080/",
          "height": 287
        },
        "id": "UEhb_B27Mm0k",
        "outputId": "1c6fc245-e11f-4f73-dbfd-a7cb6e67c52e"
      },
      "execution_count": null,
      "outputs": [
        {
          "output_type": "execute_result",
          "data": {
            "text/plain": [
              "<matplotlib.image.AxesImage at 0x7f9ca1d75590>"
            ]
          },
          "metadata": {},
          "execution_count": 23
        },
        {
          "output_type": "display_data",
          "data": {
            "text/plain": [
              "<Figure size 432x288 with 1 Axes>"
            ],
            "image/png": "[encoded data removed]"
          },
          "metadata": {
            "needs_background": "light"
          }
        }
      ]
    },
    {
      "cell_type": "markdown",
      "source": [
        "**Back to the main code**"
      ],
      "metadata": {
        "id": "8KPhYt5tNkEG"
      }
    },
    {
      "cell_type": "code",
      "source": [
        "def get_folder(name):\n",
        "  my_str = name\n",
        "  year = name[:4]\n",
        "  month_num = name[4:6]\n",
        "  month = calendar.month_name[int(month_num)]\n",
        "  return year, month"
      ],
      "metadata": {
        "id": "uD9aXeN4v1-R"
      },
      "execution_count": null,
      "outputs": []
    },
    {
      "cell_type": "code",
      "source": [
        "control_files = control_files.values.tolist()"
      ],
      "metadata": {
        "id": "q9IEw5B7_Xby"
      },
      "execution_count": null,
      "outputs": []
    },
    {
      "cell_type": "code",
      "source": [
        "len(control_files)"
      ],
      "metadata": {
        "colab": {
          "base_uri": "https://localhost:8080/"
        },
        "id": "Ivwga4NkMJWK",
        "outputId": "393454fa-5281-4599-d611-fee34449ff41"
      },
      "execution_count": null,
      "outputs": [
        {
          "output_type": "execute_result",
          "data": {
            "text/plain": [
              "106"
            ]
          },
          "metadata": {},
          "execution_count": 26
        }
      ]
    },
    {
      "cell_type": "code",
      "source": [
        "control_images = []\n"
      ],
      "metadata": {
        "id": "_E_7apeJITU5"
      },
      "execution_count": null,
      "outputs": []
    },
    {
      "cell_type": "code",
      "source": [
        "count = 0\n",
        "for im in control_files[:35]: \n",
        "  # gettign the year and month\n",
        "  year,  month = get_folder(im[0])\n",
        "\n",
        "  # setting the path to the folder to check\n",
        "  temp_loc = loc + year + '/' + month + '/*'\n",
        "\n",
        "  # loading the folder\n",
        "  data = sorted(glob.glob(os.path.join(temp_loc)))\n",
        "\n",
        "  # setting the path to the folder to check\n",
        "  file_name = loc + year + '/' + month + '/' + str(im[0])\n",
        "\n",
        "  # checking if the file exists\n",
        "  if file_name in data:\n",
        "    next_file = file_name + \"/RHODAMINE/*.tif\"\n",
        "\n",
        "\n",
        "    # getting the images\n",
        "    im_data = sorted(glob.glob(os.path.join(next_file)))\n",
        "\n",
        "    # putting all the images in the control_images list\n",
        "    for image in im_data:\n",
        "        im = Image.open(image)\n",
        "        im = im.convert('I')\n",
        "        im = im.resize((256, 256), Image.ANTIALIAS)\n",
        "        im = np.array(im)\n",
        "        im = im/255\n",
        "\n",
        "        control_images.append(im)\n",
        "        count+=1\n",
        "print(\"number of images:\",count)"
      ],
      "metadata": {
        "colab": {
          "base_uri": "https://localhost:8080/"
        },
        "id": "qP3Cw6MexhGf",
        "outputId": "1ced3e66-bd6e-4d5a-d11f-4b0a83de7acc"
      },
      "execution_count": null,
      "outputs": [
        {
          "output_type": "stream",
          "name": "stdout",
          "text": [
            "number of images: 380\n"
          ]
        }
      ]
    },
    {
      "cell_type": "code",
      "source": [
        "len(control_images)"
      ],
      "metadata": {
        "colab": {
          "base_uri": "https://localhost:8080/"
        },
        "id": "cf5lTtRUjx7E",
        "outputId": "6a2193d7-6a0d-4235-8a9f-939d96c11352"
      },
      "execution_count": null,
      "outputs": [
        {
          "output_type": "execute_result",
          "data": {
            "text/plain": [
              "380"
            ]
          },
          "metadata": {},
          "execution_count": 29
        }
      ]
    },
    {
      "cell_type": "code",
      "source": [
        "# displaying a random sample\n",
        "plt.imshow(control_images[np.random.choice(len(control_images))])\n",
        "plt.show()"
      ],
      "metadata": {
        "id": "qHsKAhXKGeZv",
        "colab": {
          "base_uri": "https://localhost:8080/",
          "height": 269
        },
        "outputId": "fe0d2155-9d6a-43c8-9a2e-5fb93abcd8a7"
      },
      "execution_count": null,
      "outputs": [
        {
          "output_type": "display_data",
          "data": {
            "text/plain": [
              "<Figure size 432x288 with 1 Axes>"
            ],
            "image/png": "[encoded data removed]"
          },
          "metadata": {
            "needs_background": "light"
          }
        }
      ]
    },
    {
      "cell_type": "code",
      "source": [
        "disease_files = disease_files.values.tolist()"
      ],
      "metadata": {
        "id": "IF9qE-E0nirA"
      },
      "execution_count": null,
      "outputs": []
    },
    {
      "cell_type": "code",
      "source": [
        "disease_images = []"
      ],
      "metadata": {
        "id": "BVUIP1pQk-bv"
      },
      "execution_count": null,
      "outputs": []
    },
    {
      "cell_type": "code",
      "source": [
        "count = 0\n",
        "for im in disease_files[:35]: \n",
        "  # gettign the year and month\n",
        "  year,  month = get_folder(im[0])\n",
        "\n",
        "  # setting the path to the folder to check\n",
        "  temp_loc = loc + year + '/' + month + '/*'\n",
        "\n",
        "  # loading the folder\n",
        "  data = sorted(glob.glob(os.path.join(temp_loc)))\n",
        "\n",
        "  # setting the path to the folder to check\n",
        "  file_name = loc + year + '/' + month + '/' + str(im[0])\n",
        "\n",
        "  # checking if the file exists\n",
        "  if file_name in data:\n",
        "    next_file = file_name + \"/RHODAMINE/*.tif\"\n",
        "\n",
        "\n",
        "    # getting the images\n",
        "    im_data = sorted(glob.glob(os.path.join(next_file)))\n",
        "\n",
        "    # putting all the images in the disease_images list\n",
        "    for image in im_data:\n",
        "        im = Image.open(image)\n",
        "        im = im.convert('I')\n",
        "        im = im.resize((256, 256), Image.ANTIALIAS)\n",
        "        im = np.array(im)\n",
        "        im = im/255\n",
        "\n",
        "        disease_images.append(im)\n",
        "        count+=1\n",
        "print(\"number of images:\", count)"
      ],
      "metadata": {
        "colab": {
          "base_uri": "https://localhost:8080/"
        },
        "id": "oppNw8QunIhS",
        "outputId": "b0c56749-91d8-41f1-e684-8949c316cf77"
      },
      "execution_count": null,
      "outputs": [
        {
          "output_type": "stream",
          "name": "stdout",
          "text": [
            "number of images: 411\n"
          ]
        }
      ]
    },
    {
      "cell_type": "code",
      "source": [
        "print(len(disease_images))"
      ],
      "metadata": {
        "colab": {
          "base_uri": "https://localhost:8080/"
        },
        "id": "hEiG77CPixLR",
        "outputId": "645a0bba-f657-4827-9568-06187dce8478"
      },
      "execution_count": null,
      "outputs": [
        {
          "output_type": "stream",
          "name": "stdout",
          "text": [
            "411\n"
          ]
        }
      ]
    },
    {
      "cell_type": "code",
      "source": [
        "# displaying a random sample\n",
        "plt.imshow(disease_images[np.random.choice(len(disease_images))])\n",
        "plt.show()"
      ],
      "metadata": {
        "colab": {
          "base_uri": "https://localhost:8080/",
          "height": 269
        },
        "id": "4nSKiMQKoORl",
        "outputId": "b0c5be9b-b70f-43cb-a11c-03c960953273"
      },
      "execution_count": null,
      "outputs": [
        {
          "output_type": "display_data",
          "data": {
            "text/plain": [
              "<Figure size 432x288 with 1 Axes>"
            ],
            "image/png": "[encoded data removed]"
          },
          "metadata": {
            "needs_background": "light"
          }
        }
      ]
    },
    {
      "cell_type": "code",
      "source": [
        "# balancing out the arrays\n",
        "\n",
        "c = len(control_images)\n",
        "d = len(disease_images)\n",
        "print(c, d)\n",
        "\n",
        "if c<d:\n",
        "  disease_images = disease_images[:c]\n",
        "else:\n",
        "  control_images = control_images[:d]"
      ],
      "metadata": {
        "colab": {
          "base_uri": "https://localhost:8080/"
        },
        "id": "plN67qIOPa3A",
        "outputId": "08968d60-b43b-4493-89ee-1fd967c9b9d4"
      },
      "execution_count": null,
      "outputs": [
        {
          "output_type": "stream",
          "name": "stdout",
          "text": [
            "380 411\n"
          ]
        }
      ]
    },
    {
      "cell_type": "code",
      "source": [
        "print(len(disease_images), len(control_images))"
      ],
      "metadata": {
        "colab": {
          "base_uri": "https://localhost:8080/"
        },
        "id": "V5-FwIggHzQu",
        "outputId": "01de368e-9191-4676-8620-cfc03072ff68"
      },
      "execution_count": null,
      "outputs": [
        {
          "output_type": "stream",
          "name": "stdout",
          "text": [
            "380 380\n"
          ]
        }
      ]
    },
    {
      "cell_type": "code",
      "source": [
        "# y_control = np.zeros(len(control_images))\n",
        "# y_disease = np.ones(len(disease_images))\n",
        "# y = [*y_control, *y_disease]\n",
        "# X = control_images + disease_images\n",
        "\n",
        "# X = np.asarray(X)\n",
        "# y = np.asarray(y)\n",
        "\n",
        "# c = list(zip(X, y))\n",
        "# np.random.shuffle(c)\n",
        "# X, y = zip(*c)"
      ],
      "metadata": {
        "id": "RCtLtGGW0SxP"
      },
      "execution_count": null,
      "outputs": []
    },
    {
      "cell_type": "code",
      "source": [
        "y_control = np.zeros(len(control_images))\n",
        "y_disease = np.ones(len(disease_images))"
      ],
      "metadata": {
        "id": "9ecJhbh9PgtI"
      },
      "execution_count": null,
      "outputs": []
    },
    {
      "cell_type": "code",
      "source": [
        "y = [*y_control, *y_disease]"
      ],
      "metadata": {
        "id": "MK9ISdXUR5nu"
      },
      "execution_count": null,
      "outputs": []
    },
    {
      "cell_type": "code",
      "source": [
        "len(y)"
      ],
      "metadata": {
        "colab": {
          "base_uri": "https://localhost:8080/"
        },
        "id": "Kfe-dpVCTEYz",
        "outputId": "35eae581-9010-49b9-c4e8-8e5aef072649"
      },
      "execution_count": null,
      "outputs": [
        {
          "output_type": "execute_result",
          "data": {
            "text/plain": [
              "760"
            ]
          },
          "metadata": {},
          "execution_count": 41
        }
      ]
    },
    {
      "cell_type": "code",
      "source": [
        "del y_control\n",
        "del y_disease"
      ],
      "metadata": {
        "id": "pDbgh319NRId"
      },
      "execution_count": null,
      "outputs": []
    },
    {
      "cell_type": "code",
      "source": [
        "X = control_images + disease_images"
      ],
      "metadata": {
        "id": "ES0cigJ2NQQU"
      },
      "execution_count": null,
      "outputs": []
    },
    {
      "cell_type": "code",
      "source": [
        "del control_images\n",
        "del disease_images"
      ],
      "metadata": {
        "id": "QR7KZBcqNYjk"
      },
      "execution_count": null,
      "outputs": []
    },
    {
      "cell_type": "code",
      "source": [
        "print(len(X), len(y))"
      ],
      "metadata": {
        "colab": {
          "base_uri": "https://localhost:8080/"
        },
        "id": "dsdygbxlNtW8",
        "outputId": "bc3af31f-8d19-4903-cf3e-417be3ba2def"
      },
      "execution_count": null,
      "outputs": [
        {
          "output_type": "stream",
          "name": "stdout",
          "text": [
            "760 760\n"
          ]
        }
      ]
    },
    {
      "cell_type": "code",
      "source": [
        "X = np.asarray(X)\n",
        "y = np.asarray(y)"
      ],
      "metadata": {
        "id": "gTAsSAd4Wvmz"
      },
      "execution_count": null,
      "outputs": []
    },
    {
      "cell_type": "code",
      "source": [
        "c = list(zip(X, y))\n",
        "np.random.shuffle(c)\n",
        "X, y = zip(*c)"
      ],
      "metadata": {
        "id": "0rIXWmopXquD"
      },
      "execution_count": null,
      "outputs": []
    },
    {
      "cell_type": "code",
      "source": [
        "n_split = 60"
      ],
      "metadata": {
        "id": "fHTkH5uBXrvs"
      },
      "execution_count": null,
      "outputs": []
    },
    {
      "cell_type": "code",
      "source": [
        "# with open('data.csv', 'w') as data:\n",
        "#   wr = csv.writer(data)\n",
        "#   wr.writerows(X)"
      ],
      "metadata": {
        "id": "0Kkstip3Sa4Q"
      },
      "execution_count": null,
      "outputs": []
    },
    {
      "cell_type": "code",
      "source": [
        "X_train = X[n_split:]\n",
        "X_test = X[:n_split]"
      ],
      "metadata": {
        "id": "hib2WmNpN9d9"
      },
      "execution_count": null,
      "outputs": []
    },
    {
      "cell_type": "code",
      "source": [
        "len(X_train)"
      ],
      "metadata": {
        "colab": {
          "base_uri": "https://localhost:8080/"
        },
        "id": "bKF_IIZuTgS0",
        "outputId": "414c3a2c-f6c8-4510-dc42-ed13052b811e"
      },
      "execution_count": null,
      "outputs": [
        {
          "output_type": "execute_result",
          "data": {
            "text/plain": [
              "700"
            ]
          },
          "metadata": {},
          "execution_count": 51
        }
      ]
    },
    {
      "cell_type": "code",
      "source": [
        "y_train = y[n_split:]\n",
        "y_test = y[:n_split]"
      ],
      "metadata": {
        "id": "ZkzIHsxJTiBI"
      },
      "execution_count": null,
      "outputs": []
    },
    {
      "cell_type": "code",
      "source": [
        "len(y_train)"
      ],
      "metadata": {
        "colab": {
          "base_uri": "https://localhost:8080/"
        },
        "id": "_HBi2k8DWoU4",
        "outputId": "5ee5d836-0a98-4663-837d-520e5a8aa1e9"
      },
      "execution_count": null,
      "outputs": [
        {
          "output_type": "execute_result",
          "data": {
            "text/plain": [
              "700"
            ]
          },
          "metadata": {},
          "execution_count": 53
        }
      ]
    },
    {
      "cell_type": "code",
      "source": [
        "X_train = np.asarray(X_train)\n",
        "y_train = np.asarray(y_train)\n",
        "\n",
        "X_test = np.asarray(X_test)\n",
        "y_test = np.asarray(y_test)\n"
      ],
      "metadata": {
        "id": "T5X-l1MMYtZ-"
      },
      "execution_count": null,
      "outputs": []
    },
    {
      "cell_type": "code",
      "source": [
        "X_train = X_train.reshape(-1, 256, 256)\n",
        "X_test = X_test.reshape(-1, 256, 256)"
      ],
      "metadata": {
        "id": "rvk-xMiNTe9B"
      },
      "execution_count": null,
      "outputs": []
    },
    {
      "cell_type": "code",
      "source": [
        "X_train.shape"
      ],
      "metadata": {
        "colab": {
          "base_uri": "https://localhost:8080/"
        },
        "id": "iNJ_sTr0Zba-",
        "outputId": "26ee59cd-1e3e-46b3-adae-ea1b7c975bf4"
      },
      "execution_count": null,
      "outputs": [
        {
          "output_type": "execute_result",
          "data": {
            "text/plain": [
              "(700, 256, 256)"
            ]
          },
          "metadata": {},
          "execution_count": 56
        }
      ]
    },
    {
      "cell_type": "code",
      "source": [
        "del X\n",
        "del y"
      ],
      "metadata": {
        "id": "ptOTZ16U972A"
      },
      "execution_count": null,
      "outputs": []
    },
    {
      "cell_type": "markdown",
      "source": [
        "using a neural net"
      ],
      "metadata": {
        "id": "gsJaJ_OfTvlH"
      }
    },
    {
      "cell_type": "code",
      "source": [
        "# general settings for the baseline model\n",
        "\n",
        "# a single hidden layer\n",
        "hiddensize = [64 ,128, 256]\n",
        "# the activation function for the hidden layers\n",
        "actfn = 'relu'\n",
        "# optimizer for the model\n",
        "opt = 'adam'\n",
        "# loss function for the model\n",
        "loss = keras.losses.sparse_categorical_crossentropy\n",
        "# metrics for the model\n",
        "metrics = ['accuracy']\n",
        "# number of epochs\n",
        "epochs = 30\n",
        "# batch size\n",
        "batch_size = 32\n",
        "# learning rate\n",
        "lr = 0.01"
      ],
      "metadata": {
        "id": "B55nsGLiUBJW"
      },
      "execution_count": null,
      "outputs": []
    },
    {
      "cell_type": "code",
      "source": [
        "# defining a function to build the model\n",
        "def model_base_factory(hiddensize, actfn, opt, loss, metrics):\n",
        "    # defining the model\n",
        "    model = keras.Sequential()\n",
        "    # input layer\n",
        "    model.add(keras.layers.Flatten(input_shape = [256 , 256])) \n",
        "    # hidden layers\n",
        "    for i in (hiddensize):\n",
        "        model.add(keras.layers.Dense(i, activation=actfn))\n",
        "    # output layer\n",
        "    model.add(keras.layers.Dense(2, activation='softmax'))\n",
        "    # compiling the model\n",
        "    model.compile(optimizer=opt, loss=loss, metrics=metrics)\n",
        "    return model"
      ],
      "metadata": {
        "id": "ZFwB1oXyUU1a"
      },
      "execution_count": null,
      "outputs": []
    },
    {
      "cell_type": "code",
      "source": [
        "# creating our base model for the baseline comparison\n",
        "base_model = model_base_factory(hiddensize, actfn, opt, loss, metrics)\n",
        "\n",
        "# displaying the summary for the base model\n",
        "base_model.summary()"
      ],
      "metadata": {
        "colab": {
          "base_uri": "https://localhost:8080/"
        },
        "id": "78ZKYP2eUYjM",
        "outputId": "c082b712-87cf-4efc-a90a-061931a75dcd"
      },
      "execution_count": null,
      "outputs": [
        {
          "output_type": "stream",
          "name": "stdout",
          "text": [
            "Model: \"sequential_5\"\n",
            "_________________________________________________________________\n",
            " Layer (type)                Output Shape              Param #   \n",
            "=================================================================\n",
            " flatten_5 (Flatten)         (None, 65536)             0         \n",
            "                                                                 \n",
            " dense_20 (Dense)            (None, 64)                4194368   \n",
            "                                                                 \n",
            " dense_21 (Dense)            (None, 128)               8320      \n",
            "                                                                 \n",
            " dense_22 (Dense)            (None, 256)               33024     \n",
            "                                                                 \n",
            " dense_23 (Dense)            (None, 2)                 514       \n",
            "                                                                 \n",
            "=================================================================\n",
            "Total params: 4,236,226\n",
            "Trainable params: 4,236,226\n",
            "Non-trainable params: 0\n",
            "_________________________________________________________________\n"
          ]
        }
      ]
    },
    {
      "cell_type": "code",
      "source": [
        "history_base = base_model.fit(X_train, y_train, epochs=epochs, batch_size=batch_size, validation_data=(X_test, y_test))"
      ],
      "metadata": {
        "id": "ZlIMBJjOUanH",
        "colab": {
          "base_uri": "https://localhost:8080/"
        },
        "outputId": "15626ad2-13a1-4bea-a663-08e6bae87cf2"
      },
      "execution_count": null,
      "outputs": [
        {
          "output_type": "stream",
          "name": "stdout",
          "text": [
            "Epoch 1/30\n",
            "22/22 [==============================] - 1s 14ms/step - loss: 8.2847 - accuracy: 0.5186 - val_loss: 9.8132 - val_accuracy: 0.5333\n",
            "Epoch 2/30\n",
            "22/22 [==============================] - 0s 8ms/step - loss: 4.6053 - accuracy: 0.5086 - val_loss: 2.7553 - val_accuracy: 0.5500\n",
            "Epoch 3/30\n",
            "22/22 [==============================] - 0s 8ms/step - loss: 1.9016 - accuracy: 0.5314 - val_loss: 1.1373 - val_accuracy: 0.5500\n",
            "Epoch 4/30\n",
            "22/22 [==============================] - 0s 8ms/step - loss: 1.0552 - accuracy: 0.5800 - val_loss: 1.2417 - val_accuracy: 0.6167\n",
            "Epoch 5/30\n",
            "22/22 [==============================] - 0s 8ms/step - loss: 1.0876 - accuracy: 0.5686 - val_loss: 1.4712 - val_accuracy: 0.4500\n",
            "Epoch 6/30\n",
            "22/22 [==============================] - 0s 8ms/step - loss: 1.0324 - accuracy: 0.5800 - val_loss: 0.9612 - val_accuracy: 0.6667\n",
            "Epoch 7/30\n",
            "22/22 [==============================] - 0s 8ms/step - loss: 0.7518 - accuracy: 0.6143 - val_loss: 0.7943 - val_accuracy: 0.6167\n",
            "Epoch 8/30\n",
            "22/22 [==============================] - 0s 8ms/step - loss: 0.6403 - accuracy: 0.6714 - val_loss: 0.8240 - val_accuracy: 0.6000\n",
            "Epoch 9/30\n",
            "22/22 [==============================] - 0s 8ms/step - loss: 0.9692 - accuracy: 0.6200 - val_loss: 0.9492 - val_accuracy: 0.5833\n",
            "Epoch 10/30\n",
            "22/22 [==============================] - 0s 8ms/step - loss: 1.0945 - accuracy: 0.6057 - val_loss: 1.1937 - val_accuracy: 0.7000\n",
            "Epoch 11/30\n",
            "22/22 [==============================] - 0s 8ms/step - loss: 0.8614 - accuracy: 0.6243 - val_loss: 1.9982 - val_accuracy: 0.5500\n",
            "Epoch 12/30\n",
            "22/22 [==============================] - 0s 8ms/step - loss: 1.0708 - accuracy: 0.5957 - val_loss: 1.1951 - val_accuracy: 0.5833\n",
            "Epoch 13/30\n",
            "22/22 [==============================] - 0s 8ms/step - loss: 0.6773 - accuracy: 0.7186 - val_loss: 0.8424 - val_accuracy: 0.6167\n",
            "Epoch 14/30\n",
            "22/22 [==============================] - 0s 8ms/step - loss: 0.6426 - accuracy: 0.6957 - val_loss: 1.0083 - val_accuracy: 0.7500\n",
            "Epoch 15/30\n",
            "22/22 [==============================] - 0s 8ms/step - loss: 0.4964 - accuracy: 0.7957 - val_loss: 0.7865 - val_accuracy: 0.7500\n",
            "Epoch 16/30\n",
            "22/22 [==============================] - 0s 7ms/step - loss: 0.5460 - accuracy: 0.7529 - val_loss: 1.0901 - val_accuracy: 0.5667\n",
            "Epoch 17/30\n",
            "22/22 [==============================] - 0s 8ms/step - loss: 0.5498 - accuracy: 0.7414 - val_loss: 0.8055 - val_accuracy: 0.7167\n",
            "Epoch 18/30\n",
            "22/22 [==============================] - 0s 8ms/step - loss: 0.4649 - accuracy: 0.8029 - val_loss: 0.7305 - val_accuracy: 0.7667\n",
            "Epoch 19/30\n",
            "22/22 [==============================] - 0s 8ms/step - loss: 0.7843 - accuracy: 0.6914 - val_loss: 0.7924 - val_accuracy: 0.5833\n",
            "Epoch 20/30\n",
            "22/22 [==============================] - 0s 9ms/step - loss: 0.6469 - accuracy: 0.6743 - val_loss: 0.7578 - val_accuracy: 0.8000\n",
            "Epoch 21/30\n",
            "22/22 [==============================] - 0s 8ms/step - loss: 0.6986 - accuracy: 0.6971 - val_loss: 0.5445 - val_accuracy: 0.8333\n",
            "Epoch 22/30\n",
            "22/22 [==============================] - 0s 8ms/step - loss: 0.6642 - accuracy: 0.7186 - val_loss: 1.0832 - val_accuracy: 0.6167\n",
            "Epoch 23/30\n",
            "22/22 [==============================] - 0s 8ms/step - loss: 0.6619 - accuracy: 0.7071 - val_loss: 0.7916 - val_accuracy: 0.7167\n",
            "Epoch 24/30\n",
            "22/22 [==============================] - 0s 8ms/step - loss: 0.5826 - accuracy: 0.7200 - val_loss: 0.7574 - val_accuracy: 0.6667\n",
            "Epoch 25/30\n",
            "22/22 [==============================] - 0s 8ms/step - loss: 0.5361 - accuracy: 0.7486 - val_loss: 0.5511 - val_accuracy: 0.7000\n",
            "Epoch 26/30\n",
            "22/22 [==============================] - 0s 8ms/step - loss: 0.3995 - accuracy: 0.8400 - val_loss: 0.5682 - val_accuracy: 0.6833\n",
            "Epoch 27/30\n",
            "22/22 [==============================] - 0s 8ms/step - loss: 0.4288 - accuracy: 0.8043 - val_loss: 0.4800 - val_accuracy: 0.7833\n",
            "Epoch 28/30\n",
            "22/22 [==============================] - 0s 8ms/step - loss: 0.3644 - accuracy: 0.8657 - val_loss: 0.4214 - val_accuracy: 0.8667\n",
            "Epoch 29/30\n",
            "22/22 [==============================] - 0s 8ms/step - loss: 0.4353 - accuracy: 0.8200 - val_loss: 0.5654 - val_accuracy: 0.8333\n",
            "Epoch 30/30\n",
            "22/22 [==============================] - 0s 8ms/step - loss: 0.4358 - accuracy: 0.8314 - val_loss: 0.6999 - val_accuracy: 0.7333\n"
          ]
        }
      ]
    },
    {
      "cell_type": "code",
      "source": [
        "# definig a function to plot the training and validation loss\n",
        "def plot_history(history):\n",
        "    # Plot the results (shifting validation curves appropriately)\n",
        "    plt.figure(figsize=(8,5))\n",
        "    n = len(history.history['accuracy'])\n",
        "    plt.plot(np.arange(0,n),history.history['accuracy'], color='orange')\n",
        "    plt.plot(np.arange(0,n),history.history['loss'],'b')\n",
        "    plt.plot(np.arange(0,n)+0.5,history.history['val_accuracy'],'r')  # offset both validation curves\n",
        "    plt.plot(np.arange(0,n)+0.5,history.history['val_loss'],'g')\n",
        "    plt.legend(['Train Acc','Train Loss','Val Acc','Val Loss'])\n",
        "    plt.xlabel('Epochs')\n",
        "    plt.ylabel('Accuracy')\n",
        "    plt.grid(True)\n",
        "    plt.gca().set_ylim(0, 1.2) # set the vertical range to [0-1] \n",
        "    plt.show() "
      ],
      "metadata": {
        "id": "V5Vhn0R77Z1S"
      },
      "execution_count": null,
      "outputs": []
    },
    {
      "cell_type": "code",
      "source": [
        "plot_history(history_base)"
      ],
      "metadata": {
        "colab": {
          "base_uri": "https://localhost:8080/",
          "height": 338
        },
        "id": "LWlmvZo-7hgr",
        "outputId": "3fe7e95e-dc2d-4556-83e7-4be231e839b9"
      },
      "execution_count": null,
      "outputs": [
        {
          "output_type": "display_data",
          "data": {
            "text/plain": [
              "<Figure size 576x360 with 1 Axes>"
            ],
            "image/png": "[encoded data removed]"
          },
          "metadata": {
            "needs_background": "light"
          }
        }
      ]
    },
    {
      "cell_type": "code",
      "source": [
        "y_pred = base_model.predict(X_test)\n",
        "y_pred = np.argmax(y_pred, axis=1)"
      ],
      "metadata": {
        "id": "Zd2GFbwVqj4z"
      },
      "execution_count": null,
      "outputs": []
    },
    {
      "cell_type": "code",
      "source": [
        "print(\"The f1 score for the baseline model is: \" + str(f1_score(y_test, y_pred)))"
      ],
      "metadata": {
        "colab": {
          "base_uri": "https://localhost:8080/"
        },
        "id": "Ose7M_fTqvM_",
        "outputId": "1c8e8c58-3e1d-40d0-df03-7332c5a7d1f9"
      },
      "execution_count": null,
      "outputs": [
        {
          "output_type": "stream",
          "name": "stdout",
          "text": [
            "The f1 score for the baseline model is: 0.6666666666666666\n"
          ]
        }
      ]
    },
    {
      "cell_type": "code",
      "source": [
        "fpr, tpr, _ = metrics.roc_curve(y_test,  y_pred)\n",
        "\n",
        "\n",
        "#create ROC curve\n",
        "plt.plot(fpr,tpr)\n",
        "plt.ylabel('True Positive Rate')\n",
        "plt.xlabel('False Positive Rate')\n",
        "plt.show()"
      ],
      "metadata": {
        "colab": {
          "base_uri": "https://localhost:8080/",
          "height": 279
        },
        "id": "jG5SeX8uq9dO",
        "outputId": "b56d8205-e41a-457a-be37-5442e7e6c169"
      },
      "execution_count": null,
      "outputs": [
        {
          "output_type": "display_data",
          "data": {
            "text/plain": [
              "<Figure size 432x288 with 1 Axes>"
            ],
            "image/png": "[encoded data removed]"
          },
          "metadata": {
            "needs_background": "light"
          }
        }
      ]
    },
    {
      "cell_type": "code",
      "source": [
        "conf=metrics.confusion_matrix(y_test, y_pred)"
      ],
      "metadata": {
        "id": "_XrDB67Nsij9"
      },
      "execution_count": null,
      "outputs": []
    },
    {
      "cell_type": "code",
      "source": [
        "sns.heatmap(conf, annot=True)\n",
        "plt.xlabel(\"predicted label\")\n",
        "plt.ylabel(\"true label\")\n",
        "plt.show()"
      ],
      "metadata": {
        "colab": {
          "base_uri": "https://localhost:8080/",
          "height": 279
        },
        "id": "3B7-3ekksq0k",
        "outputId": "5cf01bd8-234d-47cc-af10-763f7e7c72af"
      },
      "execution_count": null,
      "outputs": [
        {
          "output_type": "display_data",
          "data": {
            "text/plain": [
              "<Figure size 432x288 with 2 Axes>"
            ],
            "image/png": "[encoded data removed]"
          },
          "metadata": {
            "needs_background": "light"
          }
        }
      ]
    },
    {
      "cell_type": "markdown",
      "source": [
        "we got an acuracy of 80% max, but the model overfit as we can see. so we will implement a early stopping procedure."
      ],
      "metadata": {
        "id": "mqYJw-487NJS"
      }
    },
    {
      "cell_type": "code",
      "source": [
        "early_stopping_cb = keras.callbacks.EarlyStopping(monitor='val_accuracy',\n",
        "                                                  patience=6,\n",
        "                                                  restore_best_weights=True)"
      ],
      "metadata": {
        "id": "4T9llkXOUe-3"
      },
      "execution_count": null,
      "outputs": []
    },
    {
      "cell_type": "code",
      "source": [
        "# reshaping the images to use them in the CNN"
      ],
      "metadata": {
        "id": "eLt9SxYBesdF"
      },
      "execution_count": null,
      "outputs": []
    },
    {
      "cell_type": "code",
      "source": [
        "X_train = X_train.reshape(-1, 256, 256, 1)\n",
        "X_test = X_test.reshape(-1, 256, 256, 1)"
      ],
      "metadata": {
        "id": "3K0ZYtU7STGY"
      },
      "execution_count": null,
      "outputs": []
    },
    {
      "cell_type": "code",
      "source": [
        "print(X_train.shape, X_test.shape)"
      ],
      "metadata": {
        "colab": {
          "base_uri": "https://localhost:8080/"
        },
        "id": "FhH8iR2YSbLU",
        "outputId": "ed931327-4488-411a-f75c-9c64c309f453"
      },
      "execution_count": null,
      "outputs": [
        {
          "output_type": "stream",
          "name": "stdout",
          "text": [
            "(700, 256, 256, 1) (60, 256, 256, 1)\n"
          ]
        }
      ]
    },
    {
      "cell_type": "code",
      "source": [
        "# we will also implement a CNN model\n",
        "\n",
        "# creating a CNN model\n",
        "def model_cnn_factory(hiddensize, actfn, opt, loss):\n",
        "    model = keras.models.Sequential()\n",
        "    # Conv 1\n",
        "    model.add(keras.layers.Conv2D(filters = hiddensize[0], \n",
        "                                    kernel_size = (5, 5), activation = actfn, \n",
        "                                    input_shape = (256, 256, 1), strides = 1,\n",
        "                                    padding = 'same'))\n",
        "    # max pooling\n",
        "    model.add(keras.layers.MaxPooling2D(pool_size = (2, 2)))\n",
        "    # Adding the hidden layers\n",
        "    for n in hiddensize[1:-1]:\n",
        "        model.add(keras.layers.Conv2D(filters=n, kernel_size=3, strides=1, padding='same', activation=actfn))\n",
        "        model.add(keras.layers.MaxPooling2D(pool_size=2)) \n",
        "    # Adding the second conv layer\n",
        "    model.add(keras.layers.Conv2D(filters=hiddensize[-1], kernel_size=3, strides=1, padding='same', activation=actfn))\n",
        "    # Flattening\n",
        "    model.add(keras.layers.Flatten())\n",
        "    # output layer\n",
        "    model.add(keras.layers.Dense(2, activation = 'softmax'))\n",
        "\n",
        "    # compiling the model\n",
        "    model.compile(loss=loss, optimizer=opt, metrics=[\"accuracy\"])   \n",
        "    return model"
      ],
      "metadata": {
        "id": "2QekDWz07u-H"
      },
      "execution_count": null,
      "outputs": []
    },
    {
      "cell_type": "code",
      "source": [
        "test_model = model_cnn_factory(hiddensize, actfn, opt, loss)\n",
        "test_model.summary()"
      ],
      "metadata": {
        "colab": {
          "base_uri": "https://localhost:8080/"
        },
        "id": "9ogubyxq81N7",
        "outputId": "c204e214-ee02-470d-ee0a-c4c06304cf4e"
      },
      "execution_count": null,
      "outputs": [
        {
          "output_type": "stream",
          "name": "stdout",
          "text": [
            "Model: \"sequential\"\n",
            "_________________________________________________________________\n",
            " Layer (type)                Output Shape              Param #   \n",
            "=================================================================\n",
            " conv2d (Conv2D)             (None, 256, 256, 64)      1664      \n",
            "                                                                 \n",
            " max_pooling2d (MaxPooling2D  (None, 128, 128, 64)     0         \n",
            " )                                                               \n",
            "                                                                 \n",
            " conv2d_1 (Conv2D)           (None, 128, 128, 128)     73856     \n",
            "                                                                 \n",
            " max_pooling2d_1 (MaxPooling  (None, 64, 64, 128)      0         \n",
            " 2D)                                                             \n",
            "                                                                 \n",
            " conv2d_2 (Conv2D)           (None, 64, 64, 256)       295168    \n",
            "                                                                 \n",
            " flatten (Flatten)           (None, 1048576)           0         \n",
            "                                                                 \n",
            " dense (Dense)               (None, 2)                 2097154   \n",
            "                                                                 \n",
            "=================================================================\n",
            "Total params: 2,467,842\n",
            "Trainable params: 2,467,842\n",
            "Non-trainable params: 0\n",
            "_________________________________________________________________\n"
          ]
        }
      ]
    },
    {
      "cell_type": "code",
      "source": [
        "def do_all(hiddensizes, actfn, optimizer, loss, batch_size, n_epochs, further_callbacks=[]):\n",
        "    if further_callbacks != []:\n",
        "        callbacks = further_callbacks\n",
        "    else:\n",
        "        callbacks = [early_stopping_cb]\n",
        "    model = model_cnn_factory(hiddensizes, actfn, optimizer, loss)\n",
        "    history = model.fit(X_train, y_train, epochs=n_epochs, callbacks = callbacks,\n",
        "                        validation_data=(X_test, y_test), batch_size = batch_size)\n",
        "    max_val_acc = np.max(history.history['val_accuracy'])\n",
        "    return (max_val_acc, history, model)"
      ],
      "metadata": {
        "id": "0b4PFLmZ7836"
      },
      "execution_count": null,
      "outputs": []
    },
    {
      "cell_type": "markdown",
      "source": [
        "Without the callback"
      ],
      "metadata": {
        "id": "1gbZnDBHefNE"
      }
    },
    {
      "cell_type": "code",
      "source": [
        "cnn_model = model_cnn_factory(hiddensize, actfn, opt, loss)\n",
        "history = cnn_model.fit(X_train, y_train, epochs=30,\n",
        "                        validation_data=(X_test, y_test), batch_size = batch_size)"
      ],
      "metadata": {
        "colab": {
          "base_uri": "https://localhost:8080/"
        },
        "id": "X3U7kk2rdNAa",
        "outputId": "4bc16677-2b7d-4636-c89e-eb11edb4d2a2"
      },
      "execution_count": null,
      "outputs": [
        {
          "output_type": "stream",
          "name": "stdout",
          "text": [
            "Epoch 1/30\n",
            "22/22 [==============================] - 4s 147ms/step - loss: 3.9701 - accuracy: 0.5129 - val_loss: 0.6655 - val_accuracy: 0.5333\n",
            "Epoch 2/30\n",
            "22/22 [==============================] - 3s 140ms/step - loss: 0.5542 - accuracy: 0.7129 - val_loss: 0.3903 - val_accuracy: 0.8667\n",
            "Epoch 3/30\n",
            "22/22 [==============================] - 3s 140ms/step - loss: 0.3445 - accuracy: 0.8471 - val_loss: 0.3881 - val_accuracy: 0.8333\n",
            "Epoch 4/30\n",
            "22/22 [==============================] - 3s 142ms/step - loss: 0.2616 - accuracy: 0.8957 - val_loss: 0.3839 - val_accuracy: 0.8167\n",
            "Epoch 5/30\n",
            "22/22 [==============================] - 3s 141ms/step - loss: 0.2200 - accuracy: 0.9186 - val_loss: 0.3387 - val_accuracy: 0.8833\n",
            "Epoch 6/30\n",
            "22/22 [==============================] - 3s 142ms/step - loss: 0.1943 - accuracy: 0.9100 - val_loss: 0.4471 - val_accuracy: 0.8167\n",
            "Epoch 7/30\n",
            "22/22 [==============================] - 3s 142ms/step - loss: 0.1627 - accuracy: 0.9357 - val_loss: 0.5329 - val_accuracy: 0.8667\n",
            "Epoch 8/30\n",
            "22/22 [==============================] - 3s 143ms/step - loss: 0.0853 - accuracy: 0.9729 - val_loss: 0.2251 - val_accuracy: 0.9500\n",
            "Epoch 9/30\n",
            "22/22 [==============================] - 3s 142ms/step - loss: 0.1418 - accuracy: 0.9571 - val_loss: 0.3471 - val_accuracy: 0.9333\n",
            "Epoch 10/30\n",
            "22/22 [==============================] - 3s 144ms/step - loss: 0.0851 - accuracy: 0.9757 - val_loss: 0.3856 - val_accuracy: 0.9333\n",
            "Epoch 11/30\n",
            "22/22 [==============================] - 3s 144ms/step - loss: 0.0339 - accuracy: 0.9929 - val_loss: 0.2743 - val_accuracy: 0.8000\n",
            "Epoch 12/30\n",
            "22/22 [==============================] - 3s 148ms/step - loss: 0.0248 - accuracy: 0.9943 - val_loss: 0.2942 - val_accuracy: 0.9000\n",
            "Epoch 13/30\n",
            "22/22 [==============================] - 3s 146ms/step - loss: 0.0130 - accuracy: 0.9971 - val_loss: 0.3709 - val_accuracy: 0.9333\n",
            "Epoch 14/30\n",
            "22/22 [==============================] - 3s 144ms/step - loss: 0.0111 - accuracy: 0.9971 - val_loss: 0.3900 - val_accuracy: 0.8833\n",
            "Epoch 15/30\n",
            "22/22 [==============================] - 3s 144ms/step - loss: 0.0053 - accuracy: 1.0000 - val_loss: 0.4262 - val_accuracy: 0.9500\n",
            "Epoch 16/30\n",
            "22/22 [==============================] - 3s 144ms/step - loss: 0.0031 - accuracy: 1.0000 - val_loss: 0.2368 - val_accuracy: 0.9333\n",
            "Epoch 17/30\n",
            "22/22 [==============================] - 3s 142ms/step - loss: 0.0703 - accuracy: 0.9786 - val_loss: 0.4262 - val_accuracy: 0.8833\n",
            "Epoch 18/30\n",
            "22/22 [==============================] - 3s 142ms/step - loss: 0.0963 - accuracy: 0.9729 - val_loss: 0.2103 - val_accuracy: 0.8833\n",
            "Epoch 19/30\n",
            "22/22 [==============================] - 3s 142ms/step - loss: 0.0684 - accuracy: 0.9771 - val_loss: 0.2942 - val_accuracy: 0.9167\n",
            "Epoch 20/30\n",
            "22/22 [==============================] - 3s 141ms/step - loss: 0.0339 - accuracy: 0.9871 - val_loss: 0.5003 - val_accuracy: 0.9167\n",
            "Epoch 21/30\n",
            "22/22 [==============================] - 3s 141ms/step - loss: 0.0458 - accuracy: 0.9871 - val_loss: 0.3747 - val_accuracy: 0.9333\n",
            "Epoch 22/30\n",
            "22/22 [==============================] - 3s 142ms/step - loss: 0.0116 - accuracy: 0.9971 - val_loss: 0.4084 - val_accuracy: 0.9333\n",
            "Epoch 23/30\n",
            "22/22 [==============================] - 3s 141ms/step - loss: 0.0058 - accuracy: 0.9986 - val_loss: 0.3907 - val_accuracy: 0.9500\n",
            "Epoch 24/30\n",
            "22/22 [==============================] - 3s 142ms/step - loss: 0.0024 - accuracy: 1.0000 - val_loss: 0.3947 - val_accuracy: 0.9500\n",
            "Epoch 25/30\n",
            "22/22 [==============================] - 3s 141ms/step - loss: 0.0025 - accuracy: 1.0000 - val_loss: 0.4846 - val_accuracy: 0.9333\n",
            "Epoch 26/30\n",
            "22/22 [==============================] - 3s 142ms/step - loss: 0.0015 - accuracy: 1.0000 - val_loss: 0.3118 - val_accuracy: 0.9500\n",
            "Epoch 27/30\n",
            "22/22 [==============================] - 3s 142ms/step - loss: 7.1778e-04 - accuracy: 1.0000 - val_loss: 0.3955 - val_accuracy: 0.9500\n",
            "Epoch 28/30\n",
            "22/22 [==============================] - 3s 142ms/step - loss: 6.4551e-04 - accuracy: 1.0000 - val_loss: 0.3057 - val_accuracy: 0.9500\n",
            "Epoch 29/30\n",
            "22/22 [==============================] - 3s 142ms/step - loss: 4.7536e-04 - accuracy: 1.0000 - val_loss: 0.3647 - val_accuracy: 0.9500\n",
            "Epoch 30/30\n",
            "22/22 [==============================] - 3s 142ms/step - loss: 4.5901e-04 - accuracy: 1.0000 - val_loss: 0.3337 - val_accuracy: 0.9500\n"
          ]
        }
      ]
    },
    {
      "cell_type": "code",
      "source": [
        "plot_history(history)"
      ],
      "metadata": {
        "colab": {
          "base_uri": "https://localhost:8080/",
          "height": 338
        },
        "id": "bnShXR_MAVAY",
        "outputId": "d59b8b5e-463c-4a80-ae7f-7e6e5763f607"
      },
      "execution_count": null,
      "outputs": [
        {
          "output_type": "display_data",
          "data": {
            "text/plain": [
              "<Figure size 576x360 with 1 Axes>"
            ],
            "image/png": "[encoded data removed]"
          },
          "metadata": {
            "needs_background": "light"
          }
        }
      ]
    },
    {
      "cell_type": "code",
      "source": [
        "y_pred = cnn_model.predict(X_test)\n",
        "y_pred = np.argmax(y_pred, axis=1)"
      ],
      "metadata": {
        "id": "dgAsxYhqqgjD"
      },
      "execution_count": null,
      "outputs": []
    },
    {
      "cell_type": "code",
      "source": [
        "from sklearn import metrics"
      ],
      "metadata": {
        "id": "qaJIY59SquX6"
      },
      "execution_count": null,
      "outputs": []
    },
    {
      "cell_type": "code",
      "source": [
        "fpr, tpr, _ = metrics.roc_curve(y_test,  y_pred)\n",
        "\n",
        "\n",
        "#create ROC curve\n",
        "plt.plot(fpr,tpr)\n",
        "plt.ylabel('True Positive Rate')\n",
        "plt.xlabel('False Positive Rate')\n",
        "plt.show()"
      ],
      "metadata": {
        "colab": {
          "base_uri": "https://localhost:8080/",
          "height": 279
        },
        "id": "nMU1ldqwqsA3",
        "outputId": "ac7deb3e-642f-4305-a9e2-02ca830d10d4"
      },
      "execution_count": null,
      "outputs": [
        {
          "output_type": "display_data",
          "data": {
            "text/plain": [
              "<Figure size 432x288 with 1 Axes>"
            ],
            "image/png": "[encoded data removed]"
          },
          "metadata": {
            "needs_background": "light"
          }
        }
      ]
    },
    {
      "cell_type": "code",
      "source": [
        "conf=metrics.confusion_matrix(y_test, y_pred)\n",
        "sns.heatmap(conf, annot=True)\n",
        "plt.xlabel(\"predicted label\")\n",
        "plt.ylabel(\"true label\")\n",
        "plt.show()"
      ],
      "metadata": {
        "colab": {
          "base_uri": "https://localhost:8080/",
          "height": 283
        },
        "id": "0yiyGLSJAw_N",
        "outputId": "bb40c168-c379-4589-fd67-fac6bc11f9fd"
      },
      "execution_count": null,
      "outputs": [
        {
          "output_type": "display_data",
          "data": {
            "text/plain": [
              "<Figure size 432x288 with 2 Axes>"
            ],
            "image/png": "[encoded data removed]"
          },
          "metadata": {
            "needs_background": "light"
          }
        }
      ]
    },
    {
      "cell_type": "code",
      "source": [
        "print(\"The f1 score for the base CNN model is: \" + str(f1_score(y_test, y_pred)))"
      ],
      "metadata": {
        "colab": {
          "base_uri": "https://localhost:8080/"
        },
        "id": "lLIcxbhdA4r6",
        "outputId": "40f85f74-59e3-4da0-88f6-45e27657ec46"
      },
      "execution_count": null,
      "outputs": [
        {
          "output_type": "stream",
          "name": "stdout",
          "text": [
            "The f1 score for the base CNN model is: 0.9523809523809523\n"
          ]
        }
      ]
    },
    {
      "cell_type": "markdown",
      "source": [
        "#\n",
        "\n",
        "#\n",
        "With the callback\n",
        "#\n",
        "\n",
        "#"
      ],
      "metadata": {
        "id": "P4DyFvQveicU"
      }
    },
    {
      "cell_type": "code",
      "source": [
        "epochs = 30"
      ],
      "metadata": {
        "id": "ZCZKnhaEYpg9"
      },
      "execution_count": null,
      "outputs": []
    },
    {
      "cell_type": "code",
      "source": [
        "val_accuracy_es_cnn, history_es_cnn, model_es_cnn = do_all(hiddensize, \n",
        "                                                           actfn, \n",
        "                                                           opt, \n",
        "                                                           loss,\n",
        "                                                           batch_size, \n",
        "                                                           epochs,\n",
        "                                                           [early_stopping_cb])"
      ],
      "metadata": {
        "id": "ZGp95cNRDOaK",
        "colab": {
          "base_uri": "https://localhost:8080/"
        },
        "outputId": "26849416-e9b2-4970-87c0-3ea98ee5d9ef"
      },
      "execution_count": null,
      "outputs": [
        {
          "output_type": "stream",
          "name": "stdout",
          "text": [
            "Epoch 1/30\n",
            "22/22 [==============================] - 4s 149ms/step - loss: 2.1528 - accuracy: 0.5486 - val_loss: 0.6328 - val_accuracy: 0.6667\n",
            "Epoch 2/30\n",
            "22/22 [==============================] - 3s 139ms/step - loss: 0.5020 - accuracy: 0.7429 - val_loss: 0.4378 - val_accuracy: 0.8167\n",
            "Epoch 3/30\n",
            "22/22 [==============================] - 3s 139ms/step - loss: 0.3040 - accuracy: 0.8686 - val_loss: 0.3271 - val_accuracy: 0.8833\n",
            "Epoch 4/30\n",
            "22/22 [==============================] - 3s 138ms/step - loss: 0.2565 - accuracy: 0.8943 - val_loss: 0.4520 - val_accuracy: 0.8500\n",
            "Epoch 5/30\n",
            "22/22 [==============================] - 3s 140ms/step - loss: 0.1891 - accuracy: 0.9214 - val_loss: 0.3555 - val_accuracy: 0.8333\n",
            "Epoch 6/30\n",
            "22/22 [==============================] - 3s 139ms/step - loss: 0.1768 - accuracy: 0.9371 - val_loss: 0.2745 - val_accuracy: 0.9167\n",
            "Epoch 7/30\n",
            "22/22 [==============================] - 3s 140ms/step - loss: 0.1048 - accuracy: 0.9586 - val_loss: 0.4132 - val_accuracy: 0.7833\n",
            "Epoch 8/30\n",
            "22/22 [==============================] - 3s 140ms/step - loss: 0.0605 - accuracy: 0.9786 - val_loss: 0.5019 - val_accuracy: 0.9167\n",
            "Epoch 9/30\n",
            "22/22 [==============================] - 3s 141ms/step - loss: 0.0310 - accuracy: 0.9914 - val_loss: 0.4185 - val_accuracy: 0.9333\n",
            "Epoch 10/30\n",
            "22/22 [==============================] - 3s 142ms/step - loss: 0.0124 - accuracy: 0.9971 - val_loss: 0.3253 - val_accuracy: 0.9500\n",
            "Epoch 11/30\n",
            "22/22 [==============================] - 3s 143ms/step - loss: 0.0044 - accuracy: 1.0000 - val_loss: 0.3678 - val_accuracy: 0.9333\n",
            "Epoch 12/30\n",
            "22/22 [==============================] - 3s 143ms/step - loss: 0.0036 - accuracy: 1.0000 - val_loss: 0.4292 - val_accuracy: 0.9500\n",
            "Epoch 13/30\n",
            "22/22 [==============================] - 3s 143ms/step - loss: 0.0014 - accuracy: 1.0000 - val_loss: 0.4426 - val_accuracy: 0.9333\n",
            "Epoch 14/30\n",
            "22/22 [==============================] - 3s 144ms/step - loss: 4.7044e-04 - accuracy: 1.0000 - val_loss: 0.4934 - val_accuracy: 0.9500\n",
            "Epoch 15/30\n",
            "22/22 [==============================] - 3s 144ms/step - loss: 2.8438e-04 - accuracy: 1.0000 - val_loss: 0.4280 - val_accuracy: 0.9333\n",
            "Epoch 16/30\n",
            "22/22 [==============================] - 3s 143ms/step - loss: 2.9695e-04 - accuracy: 1.0000 - val_loss: 0.4213 - val_accuracy: 0.9333\n",
            "Epoch 17/30\n",
            "22/22 [==============================] - 3s 144ms/step - loss: 2.1612e-04 - accuracy: 1.0000 - val_loss: 0.4216 - val_accuracy: 0.9333\n"
          ]
        }
      ]
    },
    {
      "cell_type": "code",
      "source": [
        "plot_history(history_es_cnn)"
      ],
      "metadata": {
        "colab": {
          "base_uri": "https://localhost:8080/",
          "height": 338
        },
        "id": "QAABPy5tE0GA",
        "outputId": "a1eead6b-81aa-4807-cff1-b8a3d31d5dee"
      },
      "execution_count": null,
      "outputs": [
        {
          "output_type": "display_data",
          "data": {
            "text/plain": [
              "<Figure size 576x360 with 1 Axes>"
            ],
            "image/png": "[encoded data removed]"
          },
          "metadata": {
            "needs_background": "light"
          }
        }
      ]
    },
    {
      "cell_type": "code",
      "source": [
        "y_pred = cnn_model.predict(X_test)\n",
        "y_pred = np.argmax(y_pred, axis=1)"
      ],
      "metadata": {
        "id": "v3W1cP0Aq_Pi"
      },
      "execution_count": null,
      "outputs": []
    },
    {
      "cell_type": "code",
      "source": [
        "print(\"The f1 score for the base CNN model is: \" + str(f1_score(y_test, y_pred)))"
      ],
      "metadata": {
        "colab": {
          "base_uri": "https://localhost:8080/"
        },
        "id": "meb5DjdxE_9W",
        "outputId": "7f4d831c-1068-42e4-ce0d-2f126005efe3"
      },
      "execution_count": null,
      "outputs": [
        {
          "output_type": "stream",
          "name": "stdout",
          "text": [
            "The f1 score for the base CNN model is: 0.9523809523809523\n"
          ]
        }
      ]
    },
    {
      "cell_type": "code",
      "source": [
        "conf=metrics.confusion_matrix(y_test, y_pred)\n",
        "sns.heatmap(conf, annot=True)\n",
        "plt.xlabel(\"predicted label\")\n",
        "plt.ylabel(\"true label\")\n",
        "plt.show()"
      ],
      "metadata": {
        "colab": {
          "base_uri": "https://localhost:8080/",
          "height": 283
        },
        "id": "TJ6P2MrDFyZO",
        "outputId": "8efd3cb7-40ad-4f36-c778-00af075120cd"
      },
      "execution_count": null,
      "outputs": [
        {
          "output_type": "display_data",
          "data": {
            "text/plain": [
              "<Figure size 432x288 with 2 Axes>"
            ],
            "image/png": "[encoded data removed]"
          },
          "metadata": {
            "needs_background": "light"
          }
        }
      ]
    },
    {
      "cell_type": "code",
      "source": [
        "fpr, tpr, _ = metrics.roc_curve(y_test,  y_pred)\n",
        "\n",
        "\n",
        "#create ROC curve\n",
        "plt.plot(fpr,tpr)\n",
        "plt.ylabel('True Positive Rate')\n",
        "plt.xlabel('False Positive Rate')\n",
        "plt.show()"
      ],
      "metadata": {
        "colab": {
          "base_uri": "https://localhost:8080/",
          "height": 279
        },
        "id": "xGAEp_cbq__9",
        "outputId": "b1cacaff-68b8-46af-cf4b-feb4b68bf27b"
      },
      "execution_count": null,
      "outputs": [
        {
          "output_type": "display_data",
          "data": {
            "text/plain": [
              "<Figure size 432x288 with 1 Axes>"
            ],
            "image/png": "[encoded data removed]"
          },
          "metadata": {
            "needs_background": "light"
          }
        }
      ]
    },
    {
      "cell_type": "code",
      "source": [
        "import os.path"
      ],
      "metadata": {
        "id": "wn3Lutq6Dqdd"
      },
      "execution_count": null,
      "outputs": []
    },
    {
      "cell_type": "code",
      "source": [
        "if os.path.isfile('95_neuron_model_cnn.h5') is False:\n",
        "  model_es_cnn.save('95_neuron_model_cnn.h5')"
      ],
      "metadata": {
        "id": "0ah1usKTHspt"
      },
      "execution_count": null,
      "outputs": []
    },
    {
      "cell_type": "markdown",
      "source": [
        "The model is overfitting, so we add l2 regulzation to see if that helps"
      ],
      "metadata": {
        "id": "LRG-dHl_KAm9"
      }
    },
    {
      "cell_type": "code",
      "source": [
        "batch_size = 32"
      ],
      "metadata": {
        "id": "INPUZ36vtSrZ"
      },
      "execution_count": null,
      "outputs": []
    },
    {
      "cell_type": "markdown",
      "source": [
        "added l2 regularization"
      ],
      "metadata": {
        "id": "j_R8ln5x52Yg"
      }
    },
    {
      "cell_type": "code",
      "source": [
        "import tensorflow as tf\n",
        "from tensorflow.keras import regularizers"
      ],
      "metadata": {
        "id": "1dPtLx-Cfk49"
      },
      "execution_count": null,
      "outputs": []
    },
    {
      "cell_type": "code",
      "source": [
        "# creating a CNN model\n",
        "def model_cnn_l2_factory(hiddensize, actfn, opt, loss):\n",
        "    model = keras.models.Sequential()\n",
        "    # Conv 1\n",
        "    model.add(keras.layers.Conv2D(filters = hiddensize[0], \n",
        "                                    kernel_size = (5, 5), activation = actfn, \n",
        "                                    input_shape = (256, 256, 1), strides = 1,\n",
        "                                    padding = 'same',\n",
        "                                    kernel_regularizer=regularizers.L2(0.01)))\n",
        "    # max pooling\n",
        "    model.add(keras.layers.MaxPooling2D(pool_size = (2, 2)))\n",
        "    # Adding the hidden layers\n",
        "    for n in hiddensize[1:-1]:\n",
        "        model.add(keras.layers.Conv2D(filters=n, kernel_size=3, strides=1, padding='same', activation=actfn, kernel_regularizer=regularizers.L2(0.01)))\n",
        "        model.add(keras.layers.MaxPooling2D(pool_size=2)) \n",
        "    # Adding the second conv layer\n",
        "    model.add(keras.layers.Conv2D(filters=hiddensize[-1], kernel_size=3, strides=1, padding='same', activation=actfn))\n",
        "    # Flattening\n",
        "    model.add(keras.layers.Flatten())\n",
        "    # output layer\n",
        "    model.add(keras.layers.Dense(2, activation = 'softmax'))\n",
        "\n",
        "    # compiling the model\n",
        "    model.compile(loss=loss, optimizer=opt, metrics=[\"accuracy\"])  \n",
        "    # print(model.summary())  \n",
        "    return model"
      ],
      "metadata": {
        "id": "TCLjg1pEIDZs"
      },
      "execution_count": null,
      "outputs": []
    },
    {
      "cell_type": "code",
      "source": [
        "def do_all(hiddensizes, actfn, optimizer, loss, batch_size, n_epochs, further_callbacks=[]):\n",
        "    if further_callbacks != []:\n",
        "        callbacks = further_callbacks\n",
        "    else:\n",
        "        callbacks = [early_stopping_cb]\n",
        "    model = model_cnn_l2_factory(hiddensizes, actfn, optimizer, loss)\n",
        "    history = model.fit(X_train, y_train, epochs=n_epochs, callbacks = callbacks,\n",
        "                        validation_data=(X_test, y_test),\n",
        "                        batch_size=batch_size)\n",
        "    max_val_acc = np.max(history.history['val_accuracy'])\n",
        "    return (max_val_acc, history, model)"
      ],
      "metadata": {
        "id": "yuydgaYlKsjO"
      },
      "execution_count": null,
      "outputs": []
    },
    {
      "cell_type": "code",
      "source": [
        "val_accuracy_es_cnn_l2, history_es_cnn_l2, model_es_cnn_l2 = do_all(hiddensize, \n",
        "                                                           actfn, \n",
        "                                                           opt, \n",
        "                                                           loss,\n",
        "                                                           32, \n",
        "                                                           30, \n",
        "                                                           [early_stopping_cb])"
      ],
      "metadata": {
        "colab": {
          "base_uri": "https://localhost:8080/"
        },
        "id": "NzrD-HzeR6ZL",
        "outputId": "9282848e-ae90-425e-a3bc-501883fc4f0b"
      },
      "execution_count": null,
      "outputs": [
        {
          "output_type": "stream",
          "name": "stdout",
          "text": [
            "Epoch 1/30\n",
            "22/22 [==============================] - 4s 149ms/step - loss: 3.6718 - accuracy: 0.5343 - val_loss: 1.2908 - val_accuracy: 0.6333\n",
            "Epoch 2/30\n",
            "22/22 [==============================] - 3s 140ms/step - loss: 1.2154 - accuracy: 0.6257 - val_loss: 1.0791 - val_accuracy: 0.6833\n",
            "Epoch 3/30\n",
            "22/22 [==============================] - 3s 138ms/step - loss: 1.0439 - accuracy: 0.7500 - val_loss: 0.9098 - val_accuracy: 0.8000\n",
            "Epoch 4/30\n",
            "22/22 [==============================] - 3s 138ms/step - loss: 0.8340 - accuracy: 0.8071 - val_loss: 1.1710 - val_accuracy: 0.7667\n",
            "Epoch 5/30\n",
            "22/22 [==============================] - 3s 138ms/step - loss: 0.6916 - accuracy: 0.8786 - val_loss: 0.8162 - val_accuracy: 0.8000\n",
            "Epoch 6/30\n",
            "22/22 [==============================] - 3s 138ms/step - loss: 0.6192 - accuracy: 0.9043 - val_loss: 0.7304 - val_accuracy: 0.8500\n",
            "Epoch 7/30\n",
            "22/22 [==============================] - 3s 138ms/step - loss: 0.5577 - accuracy: 0.9143 - val_loss: 0.7698 - val_accuracy: 0.8500\n",
            "Epoch 8/30\n",
            "22/22 [==============================] - 3s 138ms/step - loss: 0.5012 - accuracy: 0.9300 - val_loss: 0.6647 - val_accuracy: 0.8833\n",
            "Epoch 9/30\n",
            "22/22 [==============================] - 3s 139ms/step - loss: 0.4656 - accuracy: 0.9314 - val_loss: 0.6373 - val_accuracy: 0.8333\n",
            "Epoch 10/30\n",
            "22/22 [==============================] - 3s 139ms/step - loss: 0.4562 - accuracy: 0.9343 - val_loss: 0.7184 - val_accuracy: 0.8833\n",
            "Epoch 11/30\n",
            "22/22 [==============================] - 3s 139ms/step - loss: 0.4105 - accuracy: 0.9500 - val_loss: 0.7219 - val_accuracy: 0.9167\n",
            "Epoch 12/30\n",
            "22/22 [==============================] - 3s 140ms/step - loss: 0.3599 - accuracy: 0.9700 - val_loss: 0.8887 - val_accuracy: 0.9167\n",
            "Epoch 13/30\n",
            "22/22 [==============================] - 3s 140ms/step - loss: 0.3622 - accuracy: 0.9671 - val_loss: 0.5894 - val_accuracy: 0.8500\n",
            "Epoch 14/30\n",
            "22/22 [==============================] - 3s 139ms/step - loss: 0.4098 - accuracy: 0.9286 - val_loss: 0.6455 - val_accuracy: 0.8500\n",
            "Epoch 15/30\n",
            "22/22 [==============================] - 3s 140ms/step - loss: 0.3607 - accuracy: 0.9686 - val_loss: 0.7247 - val_accuracy: 0.8833\n",
            "Epoch 16/30\n",
            "22/22 [==============================] - 3s 140ms/step - loss: 0.3442 - accuracy: 0.9686 - val_loss: 0.7027 - val_accuracy: 0.9333\n",
            "Epoch 17/30\n",
            "22/22 [==============================] - 3s 139ms/step - loss: 0.2942 - accuracy: 0.9914 - val_loss: 0.9088 - val_accuracy: 0.9333\n",
            "Epoch 18/30\n",
            "22/22 [==============================] - 3s 140ms/step - loss: 0.2929 - accuracy: 0.9843 - val_loss: 0.8695 - val_accuracy: 0.9500\n",
            "Epoch 19/30\n",
            "22/22 [==============================] - 3s 140ms/step - loss: 0.3084 - accuracy: 0.9771 - val_loss: 0.6077 - val_accuracy: 0.9667\n",
            "Epoch 20/30\n",
            "22/22 [==============================] - 3s 140ms/step - loss: 0.2864 - accuracy: 0.9871 - val_loss: 0.7904 - val_accuracy: 0.9333\n",
            "Epoch 21/30\n",
            "22/22 [==============================] - 3s 140ms/step - loss: 0.2500 - accuracy: 0.9900 - val_loss: 1.0678 - val_accuracy: 0.9500\n",
            "Epoch 22/30\n",
            "22/22 [==============================] - 3s 139ms/step - loss: 0.2272 - accuracy: 0.9943 - val_loss: 0.9738 - val_accuracy: 0.9500\n",
            "Epoch 23/30\n",
            "22/22 [==============================] - 3s 139ms/step - loss: 0.2120 - accuracy: 0.9971 - val_loss: 1.0973 - val_accuracy: 0.9500\n",
            "Epoch 24/30\n",
            "22/22 [==============================] - 3s 139ms/step - loss: 0.1987 - accuracy: 0.9971 - val_loss: 0.9970 - val_accuracy: 0.9500\n",
            "Epoch 25/30\n",
            "22/22 [==============================] - 3s 140ms/step - loss: 0.1897 - accuracy: 1.0000 - val_loss: 1.0485 - val_accuracy: 0.9500\n"
          ]
        }
      ]
    },
    {
      "cell_type": "code",
      "source": [
        "model_es_cnn_l2.summary()"
      ],
      "metadata": {
        "colab": {
          "base_uri": "https://localhost:8080/"
        },
        "id": "4dqdTVRuow7K",
        "outputId": "18ecde00-a889-4006-ca17-3692ccca2205"
      },
      "execution_count": null,
      "outputs": [
        {
          "output_type": "stream",
          "name": "stdout",
          "text": [
            "Model: \"sequential\"\n",
            "_________________________________________________________________\n",
            " Layer (type)                Output Shape              Param #   \n",
            "=================================================================\n",
            " conv2d (Conv2D)             (None, 256, 256, 64)      1664      \n",
            "                                                                 \n",
            " max_pooling2d (MaxPooling2D  (None, 128, 128, 64)     0         \n",
            " )                                                               \n",
            "                                                                 \n",
            " conv2d_1 (Conv2D)           (None, 128, 128, 128)     73856     \n",
            "                                                                 \n",
            " max_pooling2d_1 (MaxPooling  (None, 64, 64, 128)      0         \n",
            " 2D)                                                             \n",
            "                                                                 \n",
            " conv2d_2 (Conv2D)           (None, 64, 64, 256)       295168    \n",
            "                                                                 \n",
            " flatten (Flatten)           (None, 1048576)           0         \n",
            "                                                                 \n",
            " dense (Dense)               (None, 2)                 2097154   \n",
            "                                                                 \n",
            "=================================================================\n",
            "Total params: 2,467,842\n",
            "Trainable params: 2,467,842\n",
            "Non-trainable params: 0\n",
            "_________________________________________________________________\n"
          ]
        }
      ]
    },
    {
      "cell_type": "code",
      "source": [
        "# if os.path.isfile('neuron_model_cnn_l2.h5') is False:\n",
        "#   model_es_cnn.save('neuron_model_cnn_l2.h5')"
      ],
      "metadata": {
        "id": "ikBYAT2RLFSA"
      },
      "execution_count": null,
      "outputs": []
    },
    {
      "cell_type": "code",
      "source": [
        "plot_history(history_es_cnn_l2)"
      ],
      "metadata": {
        "colab": {
          "base_uri": "https://localhost:8080/"
        },
        "id": "rFvIIkQV1H9i",
        "outputId": "a2b7c00e-88ce-4ca8-fc93-6ab062d8f3b1"
      },
      "execution_count": null,
      "outputs": [
        {
          "output_type": "display_data",
          "data": {
            "text/plain": [
              "<Figure size 576x360 with 1 Axes>"
            ],
            "image/png": "[encoded data removed]"
          },
          "metadata": {
            "needs_background": "light"
          }
        }
      ]
    },
    {
      "cell_type": "markdown",
      "source": [
        "ROC CURVE for the CNN with L2 regularization"
      ],
      "metadata": {
        "id": "c1bldv1SiU4I"
      }
    },
    {
      "cell_type": "code",
      "source": [
        "y_pred = model_es_cnn_l2.predict(X_test)"
      ],
      "metadata": {
        "id": "NLLqQA-3iUnO"
      },
      "execution_count": null,
      "outputs": []
    },
    {
      "cell_type": "code",
      "source": [
        "y_pred = np.argmax(y_pred, axis=1)"
      ],
      "metadata": {
        "id": "jIOcb6ChivZy"
      },
      "execution_count": null,
      "outputs": []
    },
    {
      "cell_type": "code",
      "source": [
        "fpr, tpr, _ = metrics.roc_curve(y_test,  y_pred)\n",
        "\n",
        "\n",
        "#create ROC curve\n",
        "plt.plot(fpr,tpr)\n",
        "plt.ylabel('True Positive Rate')\n",
        "plt.xlabel('False Positive Rate')\n",
        "plt.show()"
      ],
      "metadata": {
        "colab": {
          "base_uri": "https://localhost:8080/",
          "height": 279
        },
        "id": "Ws0mYQwYiF-P",
        "outputId": "b34609b9-2c98-42a1-a551-c491f08d0c97"
      },
      "execution_count": null,
      "outputs": [
        {
          "output_type": "display_data",
          "data": {
            "text/plain": [
              "<Figure size 432x288 with 1 Axes>"
            ],
            "image/png": "[encoded data removed]"
          },
          "metadata": {
            "needs_background": "light"
          }
        }
      ]
    },
    {
      "cell_type": "code",
      "source": [
        "conf=metrics.confusion_matrix(y_test, y_pred)\n",
        "sns.heatmap(conf, annot=True)\n",
        "plt.xlabel(\"predicted label\")\n",
        "plt.ylabel(\"true label\")\n",
        "plt.show()"
      ],
      "metadata": {
        "colab": {
          "base_uri": "https://localhost:8080/",
          "height": 283
        },
        "id": "rWiaYFzNHQr2",
        "outputId": "b5207082-2c21-4409-8cf2-d61297c9d77d"
      },
      "execution_count": null,
      "outputs": [
        {
          "output_type": "display_data",
          "data": {
            "text/plain": [
              "<Figure size 432x288 with 2 Axes>"
            ],
            "image/png": "[encoded data removed]"
          },
          "metadata": {
            "needs_background": "light"
          }
        }
      ]
    },
    {
      "cell_type": "code",
      "source": [
        "print(\"The f1 score for the CNN with l2 and early callback model is: \" + str(f1_score(y_test, y_pred)))"
      ],
      "metadata": {
        "colab": {
          "base_uri": "https://localhost:8080/"
        },
        "id": "3x3coCCrHUoN",
        "outputId": "1f7e451a-e816-48cb-9ad8-350d09fb61fe"
      },
      "execution_count": null,
      "outputs": [
        {
          "output_type": "stream",
          "name": "stdout",
          "text": [
            "The f1 score for the CNN with l2 and early callback model is: 0.967741935483871\n"
          ]
        }
      ]
    },
    {
      "cell_type": "markdown",
      "source": [
        "##########################################################\n",
        "\n",
        "##########################################################"
      ],
      "metadata": {
        "id": "ArUcNRJrjv7y"
      }
    },
    {
      "cell_type": "markdown",
      "source": [
        "Transformers from Google's paper : https://arxiv.org/abs/2010.11929"
      ],
      "metadata": {
        "id": "cQ6LUU8UBYFn"
      }
    },
    {
      "cell_type": "code",
      "source": [
        "X_train = X_train.reshape(-1, 256, 256)\n",
        "X_test = X_test.reshape(-1, 256, 256)"
      ],
      "metadata": {
        "id": "eAatMxM7K7ea"
      },
      "execution_count": null,
      "outputs": []
    },
    {
      "cell_type": "code",
      "source": [
        "input_shape = (256, 256)"
      ],
      "metadata": {
        "id": "3p9BdlSULLTJ"
      },
      "execution_count": null,
      "outputs": []
    },
    {
      "cell_type": "code",
      "source": [
        "learning_rate = 0.001\n",
        "weight_decay = 0.0001\n",
        "batch_size = 256\n",
        "num_epochs = 100\n",
        "image_size = 72  # We'll resize input images to this size\n",
        "patch_size = 6  # Size of the patches to be extract from the input images\n",
        "num_patches = (image_size // patch_size) ** 2\n",
        "projection_dim = 64\n",
        "num_heads = 4\n",
        "transformer_units = [\n",
        "    projection_dim * 2,\n",
        "    projection_dim,\n",
        "]  # Size of the transformer layers\n",
        "transformer_layers = 8\n",
        "mlp_head_units = [2048, 1024]  # Size of the dense layers of the final classifier"
      ],
      "metadata": {
        "id": "qRgT9Rm_AzF7"
      },
      "execution_count": null,
      "outputs": []
    },
    {
      "cell_type": "code",
      "source": [
        "data_augmentation = keras.Sequential(\n",
        "    [\n",
        "        layers.Normalization(),\n",
        "        layers.Resizing(image_size, image_size),\n",
        "        layers.RandomFlip(\"horizontal\"),\n",
        "        layers.RandomRotation(factor=0.02),\n",
        "        layers.RandomZoom(\n",
        "            height_factor=0.2, width_factor=0.2\n",
        "        ),\n",
        "    ],\n",
        "    name=\"data_augmentation\",\n",
        ")\n",
        "# Compute the mean and the variance of the training data for normalization.\n",
        "data_augmentation.layers[0].adapt(X_train)\n"
      ],
      "metadata": {
        "id": "UIsEKRp6BmWL"
      },
      "execution_count": null,
      "outputs": []
    },
    {
      "cell_type": "code",
      "source": [
        "def mlp(x, hidden_units, dropout_rate):\n",
        "    for units in hidden_units:\n",
        "        x = layers.Dense(units, activation=tf.nn.gelu)(x)\n",
        "        x = layers.Dropout(dropout_rate)(x)\n",
        "    return x\n"
      ],
      "metadata": {
        "id": "KuSG0qUrBwJt"
      },
      "execution_count": null,
      "outputs": []
    },
    {
      "cell_type": "code",
      "source": [
        "class Patches(layers.Layer):\n",
        "    def __init__(self, patch_size):\n",
        "        super(Patches, self).__init__()\n",
        "        self.patch_size = patch_size\n",
        "\n",
        "    def call(self, images):\n",
        "        batch_size = tf.shape(images)[0]\n",
        "        patches = tf.image.extract_patches(\n",
        "            images=images,\n",
        "            sizes=[1, self.patch_size, self.patch_size, 1],\n",
        "            strides=[1, self.patch_size, self.patch_size, 1],\n",
        "            rates=[1, 1, 1, 1],\n",
        "            padding=\"VALID\",\n",
        "        )\n",
        "        patch_dims = patches.shape[-1]\n",
        "        patches = tf.reshape(patches, [batch_size, -1, patch_dims])\n",
        "        return patches\n"
      ],
      "metadata": {
        "id": "ML-1k3H4Bw7c"
      },
      "execution_count": null,
      "outputs": []
    },
    {
      "cell_type": "code",
      "source": [
        "class PatchEncoder(layers.Layer):\n",
        "    def __init__(self, num_patches, projection_dim):\n",
        "        super(PatchEncoder, self).__init__()\n",
        "        self.num_patches = num_patches\n",
        "        self.projection = layers.Dense(units=projection_dim)\n",
        "        self.position_embedding = layers.Embedding(\n",
        "            input_dim=num_patches, output_dim=projection_dim\n",
        "        )\n",
        "\n",
        "    def call(self, patch):\n",
        "        positions = tf.range(start=0, limit=self.num_patches, delta=1)\n",
        "        encoded = self.projection(patch) + self.position_embedding(positions)\n",
        "        return encoded\n"
      ],
      "metadata": {
        "id": "2VcJqYDLB3mw"
      },
      "execution_count": null,
      "outputs": []
    },
    {
      "cell_type": "code",
      "source": [
        "def create_vit_classifier():\n",
        "    inputs = layers.Input(shape=input_shape)\n",
        "    # Augment data.\n",
        "    augmented = data_augmentation(inputs)\n",
        "    # Create patches.\n",
        "    patches = Patches(patch_size)(augmented)\n",
        "    # Encode patches.\n",
        "    encoded_patches = PatchEncoder(num_patches, projection_dim)(patches)\n",
        "\n",
        "    # Create multiple layers of the Transformer block.\n",
        "    for _ in range(transformer_layers):\n",
        "        # Layer normalization 1.\n",
        "        x1 = layers.LayerNormalization(epsilon=1e-6)(encoded_patches)\n",
        "        # Create a multi-head attention layer.\n",
        "        attention_output = layers.MultiHeadAttention(\n",
        "            num_heads=num_heads, key_dim=projection_dim, dropout=0.1\n",
        "        )(x1, x1)\n",
        "        # Skip connection 1.\n",
        "        x2 = layers.Add()([attention_output, encoded_patches])\n",
        "        # Layer normalization 2.\n",
        "        x3 = layers.LayerNormalization(epsilon=1e-6)(x2)\n",
        "        # MLP.\n",
        "        x3 = mlp(x3, hidden_units=transformer_units, dropout_rate=0.1)\n",
        "        # Skip connection 2.\n",
        "        encoded_patches = layers.Add()([x3, x2])\n",
        "\n",
        "    # Create a [batch_size, projection_dim] tensor.\n",
        "    representation = layers.LayerNormalization(epsilon=1e-6)(encoded_patches)\n",
        "    representation = layers.Flatten()(representation)\n",
        "    representation = layers.Dropout(0.5)(representation)\n",
        "    # Add MLP.\n",
        "    features = mlp(representation, hidden_units=mlp_head_units, dropout_rate=0.5)\n",
        "    # Classify outputs.\n",
        "    logits = layers.Dense(2)(features)\n",
        "    # Create the Keras model.\n",
        "    model = keras.Model(inputs=inputs, outputs=logits)\n",
        "    return model"
      ],
      "metadata": {
        "id": "2n-2VecGB6dk"
      },
      "execution_count": null,
      "outputs": []
    },
    {
      "cell_type": "code",
      "source": [
        "def run_experiment(model):\n",
        "    optimizer = tfa.optimizers.AdamW(\n",
        "        learning_rate=learning_rate, weight_decay=weight_decay\n",
        "    )\n",
        "\n",
        "    model.compile(\n",
        "        optimizer=optimizer,\n",
        "        loss=keras.losses.SparseCategoricalCrossentropy(from_logits=True),\n",
        "        metrics=[\n",
        "            keras.metrics.SparseCategoricalAccuracy(name=\"accuracy\"),\n",
        "            keras.metrics.SparseTopKCategoricalAccuracy(5, name=\"top-5-accuracy\"),\n",
        "        ],\n",
        "    )\n",
        "\n",
        "    checkpoint_filepath = \"/tmp/checkpoint\"\n",
        "    checkpoint_callback = keras.callbacks.ModelCheckpoint(\n",
        "        checkpoint_filepath,\n",
        "        monitor=\"val_accuracy\",\n",
        "        save_best_only=True,\n",
        "        save_weights_only=True,\n",
        "    )\n",
        "\n",
        "    print(X_train.shape)\n",
        "\n",
        "    history = model.fit(\n",
        "        x=X_train,\n",
        "        y=y_train,\n",
        "        batch_size=batch_size,\n",
        "        epochs=num_epochs,\n",
        "        validation_split=0.1,\n",
        "        callbacks=[checkpoint_callback],\n",
        "    )\n",
        "\n",
        "    model.load_weights(checkpoint_filepath)\n",
        "    _, accuracy, top_5_accuracy = model.evaluate(X_test, y_test)\n",
        "    print(f\"Test accuracy: {round(accuracy * 100, 2)}%\")\n",
        "    print(f\"Test top 5 accuracy: {round(top_5_accuracy * 100, 2)}%\")\n",
        "\n",
        "    return history\n",
        "\n",
        "vit_classifier = create_vit_classifier()\n",
        "history = run_experiment(vit_classifier)"
      ],
      "metadata": {
        "colab": {
          "base_uri": "https://localhost:8080/",
          "height": 599
        },
        "id": "qT76VzSwB9ej",
        "outputId": "e80e57fc-c58d-479d-a9c1-e9f580bb53b3"
      },
      "execution_count": null,
      "outputs": [
        {
          "output_type": "error",
          "ename": "ValueError",
          "evalue": "ignored",
          "traceback": [
            "\u001b[0;31m---------------------------------------------------------------------------\u001b[0m",
            "\u001b[0;31mValueError\u001b[0m                                Traceback (most recent call last)",
            "\u001b[0;32m<ipython-input-135-5bc984d9bfce>\u001b[0m in \u001b[0;36m<module>\u001b[0;34m()\u001b[0m\n\u001b[1;32m     39\u001b[0m     \u001b[0;32mreturn\u001b[0m \u001b[0mhistory\u001b[0m\u001b[0;34m\u001b[0m\u001b[0;34m\u001b[0m\u001b[0m\n\u001b[1;32m     40\u001b[0m \u001b[0;34m\u001b[0m\u001b[0m\n\u001b[0;32m---> 41\u001b[0;31m \u001b[0mvit_classifier\u001b[0m \u001b[0;34m=\u001b[0m \u001b[0mcreate_vit_classifier\u001b[0m\u001b[0;34m(\u001b[0m\u001b[0;34m)\u001b[0m\u001b[0;34m\u001b[0m\u001b[0;34m\u001b[0m\u001b[0m\n\u001b[0m\u001b[1;32m     42\u001b[0m \u001b[0mhistory\u001b[0m \u001b[0;34m=\u001b[0m \u001b[0mrun_experiment\u001b[0m\u001b[0;34m(\u001b[0m\u001b[0mvit_classifier\u001b[0m\u001b[0;34m)\u001b[0m\u001b[0;34m\u001b[0m\u001b[0;34m\u001b[0m\u001b[0m\n",
            "\u001b[0;32m<ipython-input-134-da07275250e7>\u001b[0m in \u001b[0;36mcreate_vit_classifier\u001b[0;34m()\u001b[0m\n\u001b[1;32m      4\u001b[0m     \u001b[0maugmented\u001b[0m \u001b[0;34m=\u001b[0m \u001b[0mdata_augmentation\u001b[0m\u001b[0;34m(\u001b[0m\u001b[0minputs\u001b[0m\u001b[0;34m)\u001b[0m\u001b[0;34m\u001b[0m\u001b[0;34m\u001b[0m\u001b[0m\n\u001b[1;32m      5\u001b[0m     \u001b[0;31m# Create patches.\u001b[0m\u001b[0;34m\u001b[0m\u001b[0;34m\u001b[0m\u001b[0;34m\u001b[0m\u001b[0m\n\u001b[0;32m----> 6\u001b[0;31m     \u001b[0mpatches\u001b[0m \u001b[0;34m=\u001b[0m \u001b[0mPatches\u001b[0m\u001b[0;34m(\u001b[0m\u001b[0mpatch_size\u001b[0m\u001b[0;34m)\u001b[0m\u001b[0;34m(\u001b[0m\u001b[0maugmented\u001b[0m\u001b[0;34m)\u001b[0m\u001b[0;34m\u001b[0m\u001b[0;34m\u001b[0m\u001b[0m\n\u001b[0m\u001b[1;32m      7\u001b[0m     \u001b[0;31m# Encode patches.\u001b[0m\u001b[0;34m\u001b[0m\u001b[0;34m\u001b[0m\u001b[0;34m\u001b[0m\u001b[0m\n\u001b[1;32m      8\u001b[0m     \u001b[0mencoded_patches\u001b[0m \u001b[0;34m=\u001b[0m \u001b[0mPatchEncoder\u001b[0m\u001b[0;34m(\u001b[0m\u001b[0mnum_patches\u001b[0m\u001b[0;34m,\u001b[0m \u001b[0mprojection_dim\u001b[0m\u001b[0;34m)\u001b[0m\u001b[0;34m(\u001b[0m\u001b[0mpatches\u001b[0m\u001b[0;34m)\u001b[0m\u001b[0;34m\u001b[0m\u001b[0;34m\u001b[0m\u001b[0m\n",
            "\u001b[0;32m/usr/local/lib/python3.7/dist-packages/keras/utils/traceback_utils.py\u001b[0m in \u001b[0;36merror_handler\u001b[0;34m(*args, **kwargs)\u001b[0m\n\u001b[1;32m     65\u001b[0m     \u001b[0;32mexcept\u001b[0m \u001b[0mException\u001b[0m \u001b[0;32mas\u001b[0m \u001b[0me\u001b[0m\u001b[0;34m:\u001b[0m  \u001b[0;31m# pylint: disable=broad-except\u001b[0m\u001b[0;34m\u001b[0m\u001b[0;34m\u001b[0m\u001b[0m\n\u001b[1;32m     66\u001b[0m       \u001b[0mfiltered_tb\u001b[0m \u001b[0;34m=\u001b[0m \u001b[0m_process_traceback_frames\u001b[0m\u001b[0;34m(\u001b[0m\u001b[0me\u001b[0m\u001b[0;34m.\u001b[0m\u001b[0m__traceback__\u001b[0m\u001b[0;34m)\u001b[0m\u001b[0;34m\u001b[0m\u001b[0;34m\u001b[0m\u001b[0m\n\u001b[0;32m---> 67\u001b[0;31m       \u001b[0;32mraise\u001b[0m \u001b[0me\u001b[0m\u001b[0;34m.\u001b[0m\u001b[0mwith_traceback\u001b[0m\u001b[0;34m(\u001b[0m\u001b[0mfiltered_tb\u001b[0m\u001b[0;34m)\u001b[0m \u001b[0;32mfrom\u001b[0m \u001b[0;32mNone\u001b[0m\u001b[0;34m\u001b[0m\u001b[0;34m\u001b[0m\u001b[0m\n\u001b[0m\u001b[1;32m     68\u001b[0m     \u001b[0;32mfinally\u001b[0m\u001b[0;34m:\u001b[0m\u001b[0;34m\u001b[0m\u001b[0;34m\u001b[0m\u001b[0m\n\u001b[1;32m     69\u001b[0m       \u001b[0;32mdel\u001b[0m \u001b[0mfiltered_tb\u001b[0m\u001b[0;34m\u001b[0m\u001b[0;34m\u001b[0m\u001b[0m\n",
            "\u001b[0;32m/usr/local/lib/python3.7/dist-packages/tensorflow/python/autograph/impl/api.py\u001b[0m in \u001b[0;36mwrapper\u001b[0;34m(*args, **kwargs)\u001b[0m\n\u001b[1;32m    690\u001b[0m       \u001b[0;32mexcept\u001b[0m \u001b[0mException\u001b[0m \u001b[0;32mas\u001b[0m \u001b[0me\u001b[0m\u001b[0;34m:\u001b[0m  \u001b[0;31m# pylint:disable=broad-except\u001b[0m\u001b[0;34m\u001b[0m\u001b[0;34m\u001b[0m\u001b[0m\n\u001b[1;32m    691\u001b[0m         \u001b[0;32mif\u001b[0m \u001b[0mhasattr\u001b[0m\u001b[0;34m(\u001b[0m\u001b[0me\u001b[0m\u001b[0;34m,\u001b[0m \u001b[0;34m'ag_error_metadata'\u001b[0m\u001b[0;34m)\u001b[0m\u001b[0;34m:\u001b[0m\u001b[0;34m\u001b[0m\u001b[0;34m\u001b[0m\u001b[0m\n\u001b[0;32m--> 692\u001b[0;31m           \u001b[0;32mraise\u001b[0m \u001b[0me\u001b[0m\u001b[0;34m.\u001b[0m\u001b[0mag_error_metadata\u001b[0m\u001b[0;34m.\u001b[0m\u001b[0mto_exception\u001b[0m\u001b[0;34m(\u001b[0m\u001b[0me\u001b[0m\u001b[0;34m)\u001b[0m\u001b[0;34m\u001b[0m\u001b[0;34m\u001b[0m\u001b[0m\n\u001b[0m\u001b[1;32m    693\u001b[0m         \u001b[0;32melse\u001b[0m\u001b[0;34m:\u001b[0m\u001b[0;34m\u001b[0m\u001b[0;34m\u001b[0m\u001b[0m\n\u001b[1;32m    694\u001b[0m           \u001b[0;32mraise\u001b[0m\u001b[0;34m\u001b[0m\u001b[0;34m\u001b[0m\u001b[0m\n",
            "\u001b[0;31mValueError\u001b[0m: Exception encountered when calling layer \"patches_7\" (type Patches).\n\nin user code:\n\n    File \"<ipython-input-132-68cea0bafeb2>\", line 8, in call  *\n        patches = tf.image.extract_patches(\n\n    ValueError: Shape must be rank 4 but is rank 3 for '{{node patches_7/ExtractImagePatches}} = ExtractImagePatches[T=DT_FLOAT, ksizes=[1, 6, 6, 1], padding=\"VALID\", rates=[1, 1, 1, 1], strides=[1, 6, 6, 1]](Placeholder)' with input shapes: [72,72,256].\n\n\nCall arguments received:\n  • images=tf.Tensor(shape=(72, 72, 256), dtype=float32)"
          ]
        }
      ]
    },
    {
      "cell_type": "code",
      "source": [
        ""
      ],
      "metadata": {
        "id": "1a4Fx3YGLD3X"
      },
      "execution_count": null,
      "outputs": []
    }
  ]
}